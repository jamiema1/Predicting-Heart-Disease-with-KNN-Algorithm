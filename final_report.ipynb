{
 "cells": [
  {
   "cell_type": "markdown",
   "metadata": {},
   "source": [
    " # Predicting Heart Disease Using Medical Data with the KNN Algorithm  \n",
    " \n",
    " \n",
    " #### By Chris Jung, Jamie Ma and Amy Wu\n",
    " ## 1. Introduction\n",
    " ### 1.1 Background and Motivation\n",
    "***Heart disease*** is the leading cause of death for most of countries in the world, even countries with advanced medical technology such as the United States. About 659,000 people in the US die from heart disease each year, which accounts for 1 in every 4 deaths. It costs the United States about $363 billion each year from 2016 to 2017. [[1]](https://www.who.int/health-topics/cardiovascular-diseases) For those reasons, it would be beneficial for everyone if we are able to analyze the factors causing heart disease, predict heart disease using the analysis and prevent it from happening beforehand. \n",
    "\n",
    " ### 1.2 Project Goal\n",
    "Furthermore, we are going to use actual medical records from the Cleveland Clinic Foundation to make a **heart disease prediction model** using the K-nearest neighbors (KNN) classification algorithm. Then we will **evaluate our model** to determine if it is good model by analyzing the parameters and accuracy of the model. By doing these activities, we hope to answer this question:\n",
    "\n",
    "##### Given a new observation with age, max heart rate, and ST depression as predictors, can we accurately predict the **presence** of heart disease?\n",
    "\n",
    "\n",
    " ### 1.3 Data\n",
    "The dataset is from the [UCI Machine Learning Repository](https://archive.ics.uci.edu/ml/datasets/Heart+Disease). Each observation contains 14 attributes of **a person's medical information** including the presence of heart disease. From 13 attributes excluding \"Class\" that we will predict, we picked 3 attributes as our predictors with following two criteria. First, predictors should be numerical/non-categorical attributes so that they can be used for KNN classification. Secondly, predictors should be relevant attributes for heart disease prediction that are frequently used in the medical research field. We referred to this [literature [2]](https://www.ijrte.org/wp-content/uploads/papers/v8i2S3/B11630782S319.pdf) that analyzes the relevance of commonly used attributes for heart disease predictions and excluded the two numerical attributes that are not in top 10 relevant attributes from our predictors.\n",
    "\n",
    "Below is the name and explanations of the 3 selected attributes that meet both the criteria and the *Class* attribute that we want to predict using the 3 predictors. \n",
    "1. age: age of the person in years\n",
    "2. thalach: maximum heart rate achieved in bpm (Beat Per Minute)\n",
    "3. oldpeak: ST depression induced by exercise relative to rest in mm \n",
    "4. *Class*: presence of heart disease: no presence (0) and presence (1-4)"
   ]
  },
  {
   "cell_type": "code",
   "execution_count": 1,
   "metadata": {},
   "outputs": [
    {
     "name": "stderr",
     "output_type": "stream",
     "text": [
      "── \u001b[1mAttaching packages\u001b[22m ─────────────────────────────────────── tidyverse 1.3.0 ──\n",
      "\n",
      "\u001b[32m✔\u001b[39m \u001b[34mggplot2\u001b[39m 3.3.2     \u001b[32m✔\u001b[39m \u001b[34mpurrr  \u001b[39m 0.3.4\n",
      "\u001b[32m✔\u001b[39m \u001b[34mtibble \u001b[39m 3.0.3     \u001b[32m✔\u001b[39m \u001b[34mdplyr  \u001b[39m 1.0.2\n",
      "\u001b[32m✔\u001b[39m \u001b[34mtidyr  \u001b[39m 1.1.2     \u001b[32m✔\u001b[39m \u001b[34mstringr\u001b[39m 1.4.0\n",
      "\u001b[32m✔\u001b[39m \u001b[34mreadr  \u001b[39m 1.3.1     \u001b[32m✔\u001b[39m \u001b[34mforcats\u001b[39m 0.5.0\n",
      "\n",
      "Warning message:\n",
      "“package ‘ggplot2’ was built under R version 4.0.1”\n",
      "Warning message:\n",
      "“package ‘tibble’ was built under R version 4.0.2”\n",
      "Warning message:\n",
      "“package ‘tidyr’ was built under R version 4.0.2”\n",
      "Warning message:\n",
      "“package ‘dplyr’ was built under R version 4.0.2”\n",
      "── \u001b[1mConflicts\u001b[22m ────────────────────────────────────────── tidyverse_conflicts() ──\n",
      "\u001b[31m✖\u001b[39m \u001b[34mdplyr\u001b[39m::\u001b[32mfilter()\u001b[39m masks \u001b[34mstats\u001b[39m::filter()\n",
      "\u001b[31m✖\u001b[39m \u001b[34mdplyr\u001b[39m::\u001b[32mlag()\u001b[39m    masks \u001b[34mstats\u001b[39m::lag()\n",
      "\n",
      "Warning message:\n",
      "“package ‘tidymodels’ was built under R version 4.0.2”\n",
      "── \u001b[1mAttaching packages\u001b[22m ────────────────────────────────────── tidymodels 0.1.1 ──\n",
      "\n",
      "\u001b[32m✔\u001b[39m \u001b[34mbroom    \u001b[39m 0.7.0      \u001b[32m✔\u001b[39m \u001b[34mrecipes  \u001b[39m 0.1.13\n",
      "\u001b[32m✔\u001b[39m \u001b[34mdials    \u001b[39m 0.0.9      \u001b[32m✔\u001b[39m \u001b[34mrsample  \u001b[39m 0.0.7 \n",
      "\u001b[32m✔\u001b[39m \u001b[34minfer    \u001b[39m 0.5.4      \u001b[32m✔\u001b[39m \u001b[34mtune     \u001b[39m 0.1.1 \n",
      "\u001b[32m✔\u001b[39m \u001b[34mmodeldata\u001b[39m 0.0.2      \u001b[32m✔\u001b[39m \u001b[34mworkflows\u001b[39m 0.2.0 \n",
      "\u001b[32m✔\u001b[39m \u001b[34mparsnip  \u001b[39m 0.1.3      \u001b[32m✔\u001b[39m \u001b[34myardstick\u001b[39m 0.0.7 \n",
      "\n",
      "Warning message:\n",
      "“package ‘broom’ was built under R version 4.0.2”\n",
      "Warning message:\n",
      "“package ‘dials’ was built under R version 4.0.2”\n",
      "Warning message:\n",
      "“package ‘infer’ was built under R version 4.0.3”\n",
      "Warning message:\n",
      "“package ‘modeldata’ was built under R version 4.0.1”\n",
      "Warning message:\n",
      "“package ‘parsnip’ was built under R version 4.0.2”\n",
      "Warning message:\n",
      "“package ‘recipes’ was built under R version 4.0.1”\n",
      "Warning message:\n",
      "“package ‘tune’ was built under R version 4.0.2”\n",
      "Warning message:\n",
      "“package ‘workflows’ was built under R version 4.0.2”\n",
      "Warning message:\n",
      "“package ‘yardstick’ was built under R version 4.0.2”\n",
      "── \u001b[1mConflicts\u001b[22m ───────────────────────────────────────── tidymodels_conflicts() ──\n",
      "\u001b[31m✖\u001b[39m \u001b[34mscales\u001b[39m::\u001b[32mdiscard()\u001b[39m masks \u001b[34mpurrr\u001b[39m::discard()\n",
      "\u001b[31m✖\u001b[39m \u001b[34mdplyr\u001b[39m::\u001b[32mfilter()\u001b[39m   masks \u001b[34mstats\u001b[39m::filter()\n",
      "\u001b[31m✖\u001b[39m \u001b[34mrecipes\u001b[39m::\u001b[32mfixed()\u001b[39m  masks \u001b[34mstringr\u001b[39m::fixed()\n",
      "\u001b[31m✖\u001b[39m \u001b[34mdplyr\u001b[39m::\u001b[32mlag()\u001b[39m      masks \u001b[34mstats\u001b[39m::lag()\n",
      "\u001b[31m✖\u001b[39m \u001b[34myardstick\u001b[39m::\u001b[32mspec()\u001b[39m masks \u001b[34mreadr\u001b[39m::spec()\n",
      "\u001b[31m✖\u001b[39m \u001b[34mrecipes\u001b[39m::\u001b[32mstep()\u001b[39m   masks \u001b[34mstats\u001b[39m::step()\n",
      "\n",
      "Registered S3 method overwritten by 'GGally':\n",
      "  method from   \n",
      "  +.gg   ggplot2\n",
      "\n"
     ]
    }
   ],
   "source": [
    "#loads the libraries\n",
    "library(tidyverse)\n",
    "library(repr)\n",
    "library(tidymodels)\n",
    "library(GGally)\n",
    "\n",
    "#sets the seed for random events such as splitting the data\n",
    "set.seed(1000)"
   ]
  },
  {
   "cell_type": "markdown",
   "metadata": {},
   "source": [
    "## 2. Methods and Results"
   ]
  },
  {
   "cell_type": "markdown",
   "metadata": {},
   "source": [
    "### 2.1 Reading and Wrangling"
   ]
  },
  {
   "cell_type": "markdown",
   "metadata": {},
   "source": [
    "### Reading the Data\n",
    "We loaded the original data with 14 attributes from the web and corrected the data types of the numeric attributes that were treated as characters. In addition, since `X14` corresponds to the class of heart diseases, the one we want to predict, we converted it to a factor.  "
   ]
  },
  {
   "cell_type": "code",
   "execution_count": 2,
   "metadata": {},
   "outputs": [
    {
     "name": "stderr",
     "output_type": "stream",
     "text": [
      "Parsed with column specification:\n",
      "cols(\n",
      "  X1 = \u001b[32mcol_double()\u001b[39m,\n",
      "  X2 = \u001b[32mcol_double()\u001b[39m,\n",
      "  X3 = \u001b[32mcol_double()\u001b[39m,\n",
      "  X4 = \u001b[32mcol_double()\u001b[39m,\n",
      "  X5 = \u001b[32mcol_double()\u001b[39m,\n",
      "  X6 = \u001b[32mcol_double()\u001b[39m,\n",
      "  X7 = \u001b[32mcol_double()\u001b[39m,\n",
      "  X8 = \u001b[32mcol_double()\u001b[39m,\n",
      "  X9 = \u001b[32mcol_double()\u001b[39m,\n",
      "  X10 = \u001b[32mcol_double()\u001b[39m,\n",
      "  X11 = \u001b[32mcol_double()\u001b[39m,\n",
      "  X12 = \u001b[31mcol_character()\u001b[39m,\n",
      "  X13 = \u001b[31mcol_character()\u001b[39m,\n",
      "  X14 = \u001b[32mcol_double()\u001b[39m\n",
      ")\n",
      "\n",
      "Warning message:\n",
      "“Problem with `mutate()` input `X12`.\n",
      "\u001b[34mℹ\u001b[39m NAs introduced by coercion\n",
      "\u001b[34mℹ\u001b[39m Input `X12` is `as.numeric(X12)`.”\n",
      "Warning message in mask$eval_all_mutate(dots[[i]]):\n",
      "“NAs introduced by coercion”\n",
      "Warning message:\n",
      "“Problem with `mutate()` input `X13`.\n",
      "\u001b[34mℹ\u001b[39m NAs introduced by coercion\n",
      "\u001b[34mℹ\u001b[39m Input `X13` is `as.numeric(X13)`.”\n",
      "Warning message in mask$eval_all_mutate(dots[[i]]):\n",
      "“NAs introduced by coercion”\n"
     ]
    },
    {
     "data": {
      "text/html": [
       "<table>\n",
       "<caption>A tibble: 6 × 14</caption>\n",
       "<thead>\n",
       "\t<tr><th scope=col>X1</th><th scope=col>X2</th><th scope=col>X3</th><th scope=col>X4</th><th scope=col>X5</th><th scope=col>X6</th><th scope=col>X7</th><th scope=col>X8</th><th scope=col>X9</th><th scope=col>X10</th><th scope=col>X11</th><th scope=col>X12</th><th scope=col>X13</th><th scope=col>X14</th></tr>\n",
       "\t<tr><th scope=col>&lt;dbl&gt;</th><th scope=col>&lt;dbl&gt;</th><th scope=col>&lt;dbl&gt;</th><th scope=col>&lt;dbl&gt;</th><th scope=col>&lt;dbl&gt;</th><th scope=col>&lt;dbl&gt;</th><th scope=col>&lt;dbl&gt;</th><th scope=col>&lt;dbl&gt;</th><th scope=col>&lt;dbl&gt;</th><th scope=col>&lt;dbl&gt;</th><th scope=col>&lt;dbl&gt;</th><th scope=col>&lt;dbl&gt;</th><th scope=col>&lt;dbl&gt;</th><th scope=col>&lt;fct&gt;</th></tr>\n",
       "</thead>\n",
       "<tbody>\n",
       "\t<tr><td>63</td><td>1</td><td>1</td><td>145</td><td>233</td><td>1</td><td>2</td><td>150</td><td>0</td><td>2.3</td><td>3</td><td>0</td><td>6</td><td>0</td></tr>\n",
       "\t<tr><td>67</td><td>1</td><td>4</td><td>160</td><td>286</td><td>0</td><td>2</td><td>108</td><td>1</td><td>1.5</td><td>2</td><td>3</td><td>3</td><td>2</td></tr>\n",
       "\t<tr><td>67</td><td>1</td><td>4</td><td>120</td><td>229</td><td>0</td><td>2</td><td>129</td><td>1</td><td>2.6</td><td>2</td><td>2</td><td>7</td><td>1</td></tr>\n",
       "\t<tr><td>37</td><td>1</td><td>3</td><td>130</td><td>250</td><td>0</td><td>0</td><td>187</td><td>0</td><td>3.5</td><td>3</td><td>0</td><td>3</td><td>0</td></tr>\n",
       "\t<tr><td>41</td><td>0</td><td>2</td><td>130</td><td>204</td><td>0</td><td>2</td><td>172</td><td>0</td><td>1.4</td><td>1</td><td>0</td><td>3</td><td>0</td></tr>\n",
       "\t<tr><td>56</td><td>1</td><td>2</td><td>120</td><td>236</td><td>0</td><td>0</td><td>178</td><td>0</td><td>0.8</td><td>1</td><td>0</td><td>3</td><td>0</td></tr>\n",
       "</tbody>\n",
       "</table>\n"
      ],
      "text/latex": [
       "A tibble: 6 × 14\n",
       "\\begin{tabular}{llllllllllllll}\n",
       " X1 & X2 & X3 & X4 & X5 & X6 & X7 & X8 & X9 & X10 & X11 & X12 & X13 & X14\\\\\n",
       " <dbl> & <dbl> & <dbl> & <dbl> & <dbl> & <dbl> & <dbl> & <dbl> & <dbl> & <dbl> & <dbl> & <dbl> & <dbl> & <fct>\\\\\n",
       "\\hline\n",
       "\t 63 & 1 & 1 & 145 & 233 & 1 & 2 & 150 & 0 & 2.3 & 3 & 0 & 6 & 0\\\\\n",
       "\t 67 & 1 & 4 & 160 & 286 & 0 & 2 & 108 & 1 & 1.5 & 2 & 3 & 3 & 2\\\\\n",
       "\t 67 & 1 & 4 & 120 & 229 & 0 & 2 & 129 & 1 & 2.6 & 2 & 2 & 7 & 1\\\\\n",
       "\t 37 & 1 & 3 & 130 & 250 & 0 & 0 & 187 & 0 & 3.5 & 3 & 0 & 3 & 0\\\\\n",
       "\t 41 & 0 & 2 & 130 & 204 & 0 & 2 & 172 & 0 & 1.4 & 1 & 0 & 3 & 0\\\\\n",
       "\t 56 & 1 & 2 & 120 & 236 & 0 & 0 & 178 & 0 & 0.8 & 1 & 0 & 3 & 0\\\\\n",
       "\\end{tabular}\n"
      ],
      "text/markdown": [
       "\n",
       "A tibble: 6 × 14\n",
       "\n",
       "| X1 &lt;dbl&gt; | X2 &lt;dbl&gt; | X3 &lt;dbl&gt; | X4 &lt;dbl&gt; | X5 &lt;dbl&gt; | X6 &lt;dbl&gt; | X7 &lt;dbl&gt; | X8 &lt;dbl&gt; | X9 &lt;dbl&gt; | X10 &lt;dbl&gt; | X11 &lt;dbl&gt; | X12 &lt;dbl&gt; | X13 &lt;dbl&gt; | X14 &lt;fct&gt; |\n",
       "|---|---|---|---|---|---|---|---|---|---|---|---|---|---|\n",
       "| 63 | 1 | 1 | 145 | 233 | 1 | 2 | 150 | 0 | 2.3 | 3 | 0 | 6 | 0 |\n",
       "| 67 | 1 | 4 | 160 | 286 | 0 | 2 | 108 | 1 | 1.5 | 2 | 3 | 3 | 2 |\n",
       "| 67 | 1 | 4 | 120 | 229 | 0 | 2 | 129 | 1 | 2.6 | 2 | 2 | 7 | 1 |\n",
       "| 37 | 1 | 3 | 130 | 250 | 0 | 0 | 187 | 0 | 3.5 | 3 | 0 | 3 | 0 |\n",
       "| 41 | 0 | 2 | 130 | 204 | 0 | 2 | 172 | 0 | 1.4 | 1 | 0 | 3 | 0 |\n",
       "| 56 | 1 | 2 | 120 | 236 | 0 | 0 | 178 | 0 | 0.8 | 1 | 0 | 3 | 0 |\n",
       "\n"
      ],
      "text/plain": [
       "  X1 X2 X3 X4  X5  X6 X7 X8  X9 X10 X11 X12 X13 X14\n",
       "1 63 1  1  145 233 1  2  150 0  2.3 3   0   6   0  \n",
       "2 67 1  4  160 286 0  2  108 1  1.5 2   3   3   2  \n",
       "3 67 1  4  120 229 0  2  129 1  2.6 2   2   7   1  \n",
       "4 37 1  3  130 250 0  0  187 0  3.5 3   0   3   0  \n",
       "5 41 0  2  130 204 0  2  172 0  1.4 1   0   3   0  \n",
       "6 56 1  2  120 236 0  0  178 0  0.8 1   0   3   0  "
      ]
     },
     "metadata": {},
     "output_type": "display_data"
    }
   ],
   "source": [
    "#reads in the data table with the 14 attributes\n",
    "heart_data_raw <- read_csv(\"https://archive.ics.uci.edu/ml/machine-learning-databases/heart-disease/processed.cleveland.data\",\n",
    "              col_names = FALSE) %>%\n",
    "              mutate(X12 = as.numeric(X12), X13 = as.numeric(X13), X14 = as.factor(X14))\n",
    "\n",
    "#outputs the first 6 rows of the data frame\n",
    "head(heart_data_raw)"
   ]
  },
  {
   "cell_type": "markdown",
   "metadata": {},
   "source": [
    "Fig 1: Untidy dataframe"
   ]
  },
  {
   "cell_type": "markdown",
   "metadata": {},
   "source": [
    "### Wrangling the data\n",
    "In order to finish wrangling the data, we converted the column names into names that are human-readable. We decided to convert them all into the names given by the data set as outlined in the introduction, except for the last column which we named `Class`.\n",
    "### Binary Classification Using Multiple Categories\n",
    "The original `Class` column had 5 values ranging from 0 to 4 (0: no presence of heart disease, 1-4: different classes of heart disease). After finding that about half of the observations have class `0`, while the other half make up the other classes, we decided to group the `Class` into two categories, presence or not. Also, limiting our model to only predict two categories rather than five will increase the accuracy of our classifier. For these reasons, we replaced any values of 0 with `0` and any other values (1-4) with `1`."
   ]
  },
  {
   "cell_type": "code",
   "execution_count": 3,
   "metadata": {},
   "outputs": [
    {
     "data": {
      "text/html": [
       "<table>\n",
       "<caption>A tibble: 6 × 4</caption>\n",
       "<thead>\n",
       "\t<tr><th scope=col>age</th><th scope=col>thalach</th><th scope=col>oldpeak</th><th scope=col>Class</th></tr>\n",
       "\t<tr><th scope=col>&lt;dbl&gt;</th><th scope=col>&lt;dbl&gt;</th><th scope=col>&lt;dbl&gt;</th><th scope=col>&lt;fct&gt;</th></tr>\n",
       "</thead>\n",
       "<tbody>\n",
       "\t<tr><td>63</td><td>150</td><td>2.3</td><td>0</td></tr>\n",
       "\t<tr><td>67</td><td>108</td><td>1.5</td><td>1</td></tr>\n",
       "\t<tr><td>67</td><td>129</td><td>2.6</td><td>1</td></tr>\n",
       "\t<tr><td>37</td><td>187</td><td>3.5</td><td>0</td></tr>\n",
       "\t<tr><td>41</td><td>172</td><td>1.4</td><td>0</td></tr>\n",
       "\t<tr><td>56</td><td>178</td><td>0.8</td><td>0</td></tr>\n",
       "</tbody>\n",
       "</table>\n"
      ],
      "text/latex": [
       "A tibble: 6 × 4\n",
       "\\begin{tabular}{llll}\n",
       " age & thalach & oldpeak & Class\\\\\n",
       " <dbl> & <dbl> & <dbl> & <fct>\\\\\n",
       "\\hline\n",
       "\t 63 & 150 & 2.3 & 0\\\\\n",
       "\t 67 & 108 & 1.5 & 1\\\\\n",
       "\t 67 & 129 & 2.6 & 1\\\\\n",
       "\t 37 & 187 & 3.5 & 0\\\\\n",
       "\t 41 & 172 & 1.4 & 0\\\\\n",
       "\t 56 & 178 & 0.8 & 0\\\\\n",
       "\\end{tabular}\n"
      ],
      "text/markdown": [
       "\n",
       "A tibble: 6 × 4\n",
       "\n",
       "| age &lt;dbl&gt; | thalach &lt;dbl&gt; | oldpeak &lt;dbl&gt; | Class &lt;fct&gt; |\n",
       "|---|---|---|---|\n",
       "| 63 | 150 | 2.3 | 0 |\n",
       "| 67 | 108 | 1.5 | 1 |\n",
       "| 67 | 129 | 2.6 | 1 |\n",
       "| 37 | 187 | 3.5 | 0 |\n",
       "| 41 | 172 | 1.4 | 0 |\n",
       "| 56 | 178 | 0.8 | 0 |\n",
       "\n"
      ],
      "text/plain": [
       "  age thalach oldpeak Class\n",
       "1 63  150     2.3     0    \n",
       "2 67  108     1.5     1    \n",
       "3 67  129     2.6     1    \n",
       "4 37  187     3.5     0    \n",
       "5 41  172     1.4     0    \n",
       "6 56  178     0.8     0    "
      ]
     },
     "metadata": {},
     "output_type": "display_data"
    }
   ],
   "source": [
    "#renames the columns\n",
    "colnames(heart_data_raw) <- c(\"age\", \"sex\", \"cp\", \"trestbps\", \"chol\", \"fbs\", \"restecg\", \"thalach\", \"exang\", \"oldpeak\",\n",
    "                          \"slope\", \"ca\", \"thal\", \"Class\")\n",
    "\n",
    "#selects the 5 predictors and class that will be used as well as converts the class into either 0 for value = 0 or 1 for values = [1-4]\n",
    "heart_data <- select(heart_data_raw, age, thalach, oldpeak, Class) %>%\n",
    "    mutate(Class = case_when((Class == 0) ~ 0, (Class != 0) ~ 1)) %>%\n",
    "    mutate(Class = as_factor(Class))\n",
    "\n",
    "#outputs the first 6 rows of the data frame\n",
    "head(heart_data)"
   ]
  },
  {
   "cell_type": "markdown",
   "metadata": {},
   "source": [
    "Fig 2: Dataframe containing the 5 predictors and the new `Class` categories"
   ]
  },
  {
   "cell_type": "markdown",
   "metadata": {},
   "source": [
    "### Splitting the data\n",
    "We chose a 75/25 split to offer the model a good balance between optimizing its accuracy through training data and maintaining enough data to test the accuracy. `Class` corresponds to the variable we are trying to predict."
   ]
  },
  {
   "cell_type": "code",
   "execution_count": 4,
   "metadata": {},
   "outputs": [],
   "source": [
    "heart_split <- initial_split(heart_data, prop = 0.75, strata = Class)  \n",
    "heart_training <- training(heart_split)   \n",
    "heart_testing <- testing(heart_split)"
   ]
  },
  {
   "cell_type": "markdown",
   "metadata": {},
   "source": [
    "## 2.2 Exploratory Data Analysis\n",
    "### Summarizing the Data"
   ]
  },
  {
   "cell_type": "markdown",
   "metadata": {},
   "source": [
    "Below, we have created two tables to summarize the data. The first calculates the proportion of each `Class` within the training data. The second displays statistical measurements such as `min`, `max`, `median`, and `mean` of the training data set for all predictors."
   ]
  },
  {
   "cell_type": "code",
   "execution_count": 5,
   "metadata": {},
   "outputs": [
    {
     "name": "stderr",
     "output_type": "stream",
     "text": [
      "`summarise()` ungrouping output (override with `.groups` argument)\n",
      "\n"
     ]
    },
    {
     "data": {
      "text/html": [
       "<table>\n",
       "<caption>A tibble: 2 × 3</caption>\n",
       "<thead>\n",
       "\t<tr><th scope=col>Class</th><th scope=col>count</th><th scope=col>percent</th></tr>\n",
       "\t<tr><th scope=col>&lt;fct&gt;</th><th scope=col>&lt;int&gt;</th><th scope=col>&lt;dbl&gt;</th></tr>\n",
       "</thead>\n",
       "<tbody>\n",
       "\t<tr><td>0</td><td>123</td><td>53.94737</td></tr>\n",
       "\t<tr><td>1</td><td>105</td><td>46.05263</td></tr>\n",
       "</tbody>\n",
       "</table>\n"
      ],
      "text/latex": [
       "A tibble: 2 × 3\n",
       "\\begin{tabular}{lll}\n",
       " Class & count & percent\\\\\n",
       " <fct> & <int> & <dbl>\\\\\n",
       "\\hline\n",
       "\t 0 & 123 & 53.94737\\\\\n",
       "\t 1 & 105 & 46.05263\\\\\n",
       "\\end{tabular}\n"
      ],
      "text/markdown": [
       "\n",
       "A tibble: 2 × 3\n",
       "\n",
       "| Class &lt;fct&gt; | count &lt;int&gt; | percent &lt;dbl&gt; |\n",
       "|---|---|---|\n",
       "| 0 | 123 | 53.94737 |\n",
       "| 1 | 105 | 46.05263 |\n",
       "\n"
      ],
      "text/plain": [
       "  Class count percent \n",
       "1 0     123   53.94737\n",
       "2 1     105   46.05263"
      ]
     },
     "metadata": {},
     "output_type": "display_data"
    }
   ],
   "source": [
    "#creates a table that displays the count and percentage of each class in the training data\n",
    "heart_proportions <- heart_training %>%\n",
    "                      group_by(Class) %>%\n",
    "                      summarize(\"count\" = n()) %>%\n",
    "                      mutate(percent = 100*count/nrow(heart_training))\n",
    "heart_proportions"
   ]
  },
  {
   "cell_type": "markdown",
   "metadata": {},
   "source": [
    "Fig 3: Distribution of the two classes"
   ]
  },
  {
   "cell_type": "code",
   "execution_count": 6,
   "metadata": {},
   "outputs": [
    {
     "name": "stderr",
     "output_type": "stream",
     "text": [
      "Warning message:\n",
      "“`as.tibble()` is deprecated as of tibble 2.0.0.\n",
      "Please use `as_tibble()` instead.\n",
      "The signature and semantics have changed, see `?as_tibble`.\n",
      "\u001b[90mThis warning is displayed once every 8 hours.\u001b[39m\n",
      "\u001b[90mCall `lifecycle::last_warnings()` to see where this warning was generated.\u001b[39m”\n"
     ]
    },
    {
     "data": {
      "text/html": [
       "<table>\n",
       "<caption>A data.frame: 4 × 4</caption>\n",
       "<thead>\n",
       "\t<tr><th scope=col>age</th><th scope=col>thalach</th><th scope=col>oldpeak</th><th scope=col>Stat</th></tr>\n",
       "\t<tr><th scope=col>&lt;dbl&gt;</th><th scope=col>&lt;dbl&gt;</th><th scope=col>&lt;dbl&gt;</th><th scope=col>&lt;chr&gt;</th></tr>\n",
       "</thead>\n",
       "<tbody>\n",
       "\t<tr><td>56.00</td><td>152.00</td><td>0.80</td><td>median</td></tr>\n",
       "\t<tr><td>54.77</td><td>149.47</td><td>1.01</td><td>mean  </td></tr>\n",
       "\t<tr><td>35.00</td><td> 71.00</td><td>0.00</td><td>min   </td></tr>\n",
       "\t<tr><td>77.00</td><td>194.00</td><td>4.40</td><td>max   </td></tr>\n",
       "</tbody>\n",
       "</table>\n"
      ],
      "text/latex": [
       "A data.frame: 4 × 4\n",
       "\\begin{tabular}{llll}\n",
       " age & thalach & oldpeak & Stat\\\\\n",
       " <dbl> & <dbl> & <dbl> & <chr>\\\\\n",
       "\\hline\n",
       "\t 56.00 & 152.00 & 0.80 & median\\\\\n",
       "\t 54.77 & 149.47 & 1.01 & mean  \\\\\n",
       "\t 35.00 &  71.00 & 0.00 & min   \\\\\n",
       "\t 77.00 & 194.00 & 4.40 & max   \\\\\n",
       "\\end{tabular}\n"
      ],
      "text/markdown": [
       "\n",
       "A data.frame: 4 × 4\n",
       "\n",
       "| age &lt;dbl&gt; | thalach &lt;dbl&gt; | oldpeak &lt;dbl&gt; | Stat &lt;chr&gt; |\n",
       "|---|---|---|---|\n",
       "| 56.00 | 152.00 | 0.80 | median |\n",
       "| 54.77 | 149.47 | 1.01 | mean   |\n",
       "| 35.00 |  71.00 | 0.00 | min    |\n",
       "| 77.00 | 194.00 | 4.40 | max    |\n",
       "\n"
      ],
      "text/plain": [
       "  age   thalach oldpeak Stat  \n",
       "1 56.00 152.00  0.80    median\n",
       "2 54.77 149.47  1.01    mean  \n",
       "3 35.00  71.00  0.00    min   \n",
       "4 77.00 194.00  4.40    max   "
      ]
     },
     "metadata": {},
     "output_type": "display_data"
    }
   ],
   "source": [
    "#training data with the class coloumn r\n",
    "heart_training_no_class <- select(heart_training, - Class)\n",
    "\n",
    "#creates a data table with the mean, median, min, and max values of each predictors\n",
    "heart_median <- heart_training_no_class %>%\n",
    "                map_df(median, na.rm = TRUE)\n",
    "heart_mean <- heart_training_no_class %>%\n",
    "                map_df(mean, na.rm = TRUE) %>%\n",
    "                t() %>%\n",
    "                round(digits = 2) %>%\n",
    "                t() %>%\n",
    "                as.tibble()\n",
    "heart_min <- heart_training_no_class %>%\n",
    "                map_df(min, na.rm = TRUE)\n",
    "heart_max <- heart_training_no_class %>%\n",
    "                map_df(max, na.rm = TRUE)\n",
    "\n",
    "#combines all of the statistical measurements into one table\n",
    "heart_averages <- rbind(heart_median, heart_mean, heart_min, heart_max) %>%\n",
    "    cbind(Stat = c(\"median\",\"mean\",\"min\",\"max\"))\n",
    "\n",
    "heart_averages"
   ]
  },
  {
   "cell_type": "markdown",
   "metadata": {},
   "source": [
    "Fig 4: Summary of statistics"
   ]
  },
  {
   "cell_type": "code",
   "execution_count": 7,
   "metadata": {},
   "outputs": [
    {
     "data": {
      "text/html": [
       "<table>\n",
       "<caption>A tibble: 0 × 4</caption>\n",
       "<thead>\n",
       "\t<tr><th scope=col>age</th><th scope=col>thalach</th><th scope=col>oldpeak</th><th scope=col>Stat</th></tr>\n",
       "\t<tr><th scope=col>&lt;dbl&gt;</th><th scope=col>&lt;dbl&gt;</th><th scope=col>&lt;dbl&gt;</th><th scope=col>&lt;chr&gt;</th></tr>\n",
       "</thead>\n",
       "<tbody>\n",
       "</tbody>\n",
       "</table>\n"
      ],
      "text/latex": [
       "A tibble: 0 × 4\n",
       "\\begin{tabular}{llll}\n",
       " age & thalach & oldpeak & Stat\\\\\n",
       " <dbl> & <dbl> & <dbl> & <chr>\\\\\n",
       "\\hline\n",
       "\\end{tabular}\n"
      ],
      "text/markdown": [
       "\n",
       "A tibble: 0 × 4\n",
       "\n",
       "| age &lt;dbl&gt; | thalach &lt;dbl&gt; | oldpeak &lt;dbl&gt; | Stat &lt;chr&gt; |\n",
       "|---|---|---|---|\n",
       "\n"
      ],
      "text/plain": [
       "     age thalach oldpeak Stat"
      ]
     },
     "metadata": {},
     "output_type": "display_data"
    }
   ],
   "source": [
    "heart_na <- heart_training_no_class %>%\n",
    "    filter(is.na(age) | is.na(thalach) | is.na(oldpeak)) %>%\n",
    "    mutate(Stat = \"NA\")\n",
    "heart_na"
   ]
  },
  {
   "cell_type": "markdown",
   "metadata": {},
   "source": [
    "Fig 5: Summary of NA observations"
   ]
  },
  {
   "cell_type": "markdown",
   "metadata": {},
   "source": [
    "As we can see from `Fig 3`, approximately 54% of the data is of class 0 (no presence), while the other 46% is of class 1 (presence). This lack of class imbalance means that the classifier should be roughly equally likely to choose either of the classes with no real preference for either of them. In `Fig 4`, we can get a quick sense for what the data looks like. One thing we can notice is that since each of the variables are on a different scale, when we make the classifier, we will have to standardize the data or else the variables on a larger scale such as `thalach` will have much more impact on the classification than variables on a smaller scale such as `oldpeak`. Lastly, in `Fig 5`, we see that no observations have any of the variables being `NA`. This means that every the observation has values for all five variables, so we will not have to worry about any points missing data and skewing our results."
   ]
  },
  {
   "cell_type": "markdown",
   "metadata": {},
   "source": [
    "### Visualizing the Data\n",
    "We used the `ggpairs` function in the `GGally` package as this function allows us to visualize the relationships between each pairs of all of the predictor variables and the `Class`."
   ]
  },
  {
   "cell_type": "code",
   "execution_count": 2,
   "metadata": {},
   "outputs": [
    {
     "ename": "ERROR",
     "evalue": "Error in ggpairs(heart_training, aes(color = Class)): object 'heart_training' not found\n",
     "output_type": "error",
     "traceback": [
      "Error in ggpairs(heart_training, aes(color = Class)): object 'heart_training' not found\nTraceback:\n",
      "1. ggpairs(heart_training, aes(color = Class))"
     ]
    }
   ],
   "source": [
    "options(repr.plot.width = 15, repr.plot.height = 15)\n",
    "\n",
    "#displays a ggpairs plot of the training data\n",
    "ggpairs(heart_training, aes(color=Class)) +\n",
    "    theme(text = element_text(size = 18))"
   ]
  },
  {
   "cell_type": "markdown",
   "metadata": {},
   "source": [
    "Fig 6: Visualization displaying the relationships between all variables"
   ]
  },
  {
   "cell_type": "markdown",
   "metadata": {},
   "source": [
    "The result is 13 plots corresponding to the relationship of each pair of 4 attributes presented in a 4x4 matrix format. We divided this matrix into 3 groups of plots and interpreted each group as following.\n",
    "1. Diagonal plots : plots located at the diagonal position show the distribution of each attribute.\n",
    "2. Scatter plots : scatter plots under the diagonal plots and above the last row show the relationships between each pair of different predictors. The key thing to notice is that none of the plots appear to show a strong correlation between any two attributes. This tells us that we are not using two different attributes that can be interpreted as one when used as predictors.\n",
    "3. Box plots and histogram plots : the main takeaways that we can make from this visualization is by analyzing the box plots and histograms between each of the predictors and the `Class`. As we can see, depending on which class the observation is in, each of the predictors has a different distribution with some being greater than others."
   ]
  },
  {
   "cell_type": "markdown",
   "metadata": {},
   "source": [
    "## 2.3 Data Analysis using KNN Classification"
   ]
  },
  {
   "cell_type": "markdown",
   "metadata": {},
   "source": [
    "### Standardization\n",
    "To begin our data analysis, we will want to create a recipe specifying our data, predictors, and class. Since we are going to be using multiple predictors with varying scales, we will want to use `step_scale` and `step_center` to normalize the data."
   ]
  },
  {
   "cell_type": "code",
   "execution_count": 9,
   "metadata": {},
   "outputs": [
    {
     "data": {
      "text/plain": [
       "Data Recipe\n",
       "\n",
       "Inputs:\n",
       "\n",
       "      role #variables\n",
       "   outcome          1\n",
       " predictor          3\n",
       "\n",
       "Operations:\n",
       "\n",
       "Scaling for all_predictors()\n",
       "Centering for all_predictors()"
      ]
     },
     "metadata": {},
     "output_type": "display_data"
    }
   ],
   "source": [
    "#creates the recipe \n",
    "heart_recipe <- recipe(Class ~ ., data = heart_training) %>%\n",
    "    step_scale(all_predictors()) %>%\n",
    "    step_center(all_predictors())\n",
    "heart_recipe"
   ]
  },
  {
   "cell_type": "markdown",
   "metadata": {},
   "source": [
    "Next, since we will be performing a KNN classification, we will want to use the `nearest_neighbor` function, set the engine to `\"kknn\"`, and set the mode to `\"classification\"`. In addition, since we want to determine the optimal K value that produces the highest accuracy, we will use the `tune()` function in the `neighbors` argument."
   ]
  },
  {
   "cell_type": "code",
   "execution_count": 10,
   "metadata": {},
   "outputs": [
    {
     "data": {
      "text/plain": [
       "K-Nearest Neighbor Model Specification (classification)\n",
       "\n",
       "Main Arguments:\n",
       "  neighbors = tune()\n",
       "  weight_func = rectangular\n",
       "\n",
       "Computational engine: kknn \n"
      ]
     },
     "metadata": {},
     "output_type": "display_data"
    }
   ],
   "source": [
    "#creates the specification for the model\n",
    "heart_spec <- nearest_neighbor(weight = \"rectangular\", neighbors = tune()) %>%\n",
    "    set_engine(\"kknn\") %>%\n",
    "    set_mode(\"classification\")\n",
    "heart_spec"
   ]
  },
  {
   "cell_type": "markdown",
   "metadata": {},
   "source": [
    "### Cross-validation\n",
    "As mentioned earlier, since we want to determine the optimal K value, we will use 5-fold cross validation. Since the training data set only has about 225 observations, we believe that using 5-fold validation provides a good balance between the number of observations in the validation set as well as in the training set. If we used a higher number such as 10, each group would have a very limited number of observations (~20) resulting in a higher likelihood of outliers in each set."
   ]
  },
  {
   "cell_type": "code",
   "execution_count": 11,
   "metadata": {},
   "outputs": [],
   "source": [
    "#performs 5 fold cross validation\n",
    "heart_vfold <- vfold_cv(heart_training, v=5, strata = Class)"
   ]
  },
  {
   "cell_type": "markdown",
   "metadata": {},
   "source": [
    "### Workflow\n",
    "Next, we create a workflow by adding the `heart_recipe` and the `heart_spec` model."
   ]
  },
  {
   "cell_type": "code",
   "execution_count": 12,
   "metadata": {},
   "outputs": [
    {
     "data": {
      "text/plain": [
       "══ Workflow ════════════════════════════════════════════════════════════════════\n",
       "\u001b[3mPreprocessor:\u001b[23m Recipe\n",
       "\u001b[3mModel:\u001b[23m nearest_neighbor()\n",
       "\n",
       "── Preprocessor ────────────────────────────────────────────────────────────────\n",
       "2 Recipe Steps\n",
       "\n",
       "● step_scale()\n",
       "● step_center()\n",
       "\n",
       "── Model ───────────────────────────────────────────────────────────────────────\n",
       "K-Nearest Neighbor Model Specification (classification)\n",
       "\n",
       "Main Arguments:\n",
       "  neighbors = tune()\n",
       "  weight_func = rectangular\n",
       "\n",
       "Computational engine: kknn \n"
      ]
     },
     "metadata": {},
     "output_type": "display_data"
    }
   ],
   "source": [
    "#creates a workflow\n",
    "heart_workflow <- workflow() %>%\n",
    "    add_recipe(heart_recipe) %>%\n",
    "    add_model(heart_spec)\n",
    "heart_workflow"
   ]
  },
  {
   "cell_type": "markdown",
   "metadata": {},
   "source": [
    "### Tuning and Evaluating\n",
    "Lastly, to determine the general range of optimal K values, we want to test a wide range of K values to determine roughly what value of K produces the highest accuracy. To accomplish this task, we will test K values from 1 to 125 incrementing by 10 each time. Then, we will create a table that displays the accuracy (`mean`) in descending order and extract the K value that produces the maximum accuracy. In addition, we will visualize the results by creating a line plot that graphs how the estimated accuracy changes depending on the K value."
   ]
  },
  {
   "cell_type": "code",
   "execution_count": 13,
   "metadata": {},
   "outputs": [
    {
     "data": {
      "text/html": [
       "<table>\n",
       "<caption>A tibble: 6 × 7</caption>\n",
       "<thead>\n",
       "\t<tr><th scope=col>neighbors</th><th scope=col>.metric</th><th scope=col>.estimator</th><th scope=col>mean</th><th scope=col>n</th><th scope=col>std_err</th><th scope=col>.config</th></tr>\n",
       "\t<tr><th scope=col>&lt;dbl&gt;</th><th scope=col>&lt;chr&gt;</th><th scope=col>&lt;chr&gt;</th><th scope=col>&lt;dbl&gt;</th><th scope=col>&lt;int&gt;</th><th scope=col>&lt;dbl&gt;</th><th scope=col>&lt;chr&gt;</th></tr>\n",
       "</thead>\n",
       "<tbody>\n",
       "\t<tr><td>21</td><td>accuracy</td><td>binary</td><td>0.7327536</td><td>5</td><td>0.03608259</td><td>Model03</td></tr>\n",
       "\t<tr><td>91</td><td>accuracy</td><td>binary</td><td>0.7324638</td><td>5</td><td>0.03536166</td><td>Model10</td></tr>\n",
       "\t<tr><td>11</td><td>accuracy</td><td>binary</td><td>0.7323671</td><td>5</td><td>0.04065412</td><td>Model02</td></tr>\n",
       "\t<tr><td>81</td><td>accuracy</td><td>binary</td><td>0.7323671</td><td>5</td><td>0.03947454</td><td>Model09</td></tr>\n",
       "\t<tr><td>71</td><td>accuracy</td><td>binary</td><td>0.7194203</td><td>5</td><td>0.03581317</td><td>Model08</td></tr>\n",
       "\t<tr><td>31</td><td>accuracy</td><td>binary</td><td>0.7150725</td><td>5</td><td>0.03742212</td><td>Model04</td></tr>\n",
       "</tbody>\n",
       "</table>\n"
      ],
      "text/latex": [
       "A tibble: 6 × 7\n",
       "\\begin{tabular}{lllllll}\n",
       " neighbors & .metric & .estimator & mean & n & std\\_err & .config\\\\\n",
       " <dbl> & <chr> & <chr> & <dbl> & <int> & <dbl> & <chr>\\\\\n",
       "\\hline\n",
       "\t 21 & accuracy & binary & 0.7327536 & 5 & 0.03608259 & Model03\\\\\n",
       "\t 91 & accuracy & binary & 0.7324638 & 5 & 0.03536166 & Model10\\\\\n",
       "\t 11 & accuracy & binary & 0.7323671 & 5 & 0.04065412 & Model02\\\\\n",
       "\t 81 & accuracy & binary & 0.7323671 & 5 & 0.03947454 & Model09\\\\\n",
       "\t 71 & accuracy & binary & 0.7194203 & 5 & 0.03581317 & Model08\\\\\n",
       "\t 31 & accuracy & binary & 0.7150725 & 5 & 0.03742212 & Model04\\\\\n",
       "\\end{tabular}\n"
      ],
      "text/markdown": [
       "\n",
       "A tibble: 6 × 7\n",
       "\n",
       "| neighbors &lt;dbl&gt; | .metric &lt;chr&gt; | .estimator &lt;chr&gt; | mean &lt;dbl&gt; | n &lt;int&gt; | std_err &lt;dbl&gt; | .config &lt;chr&gt; |\n",
       "|---|---|---|---|---|---|---|\n",
       "| 21 | accuracy | binary | 0.7327536 | 5 | 0.03608259 | Model03 |\n",
       "| 91 | accuracy | binary | 0.7324638 | 5 | 0.03536166 | Model10 |\n",
       "| 11 | accuracy | binary | 0.7323671 | 5 | 0.04065412 | Model02 |\n",
       "| 81 | accuracy | binary | 0.7323671 | 5 | 0.03947454 | Model09 |\n",
       "| 71 | accuracy | binary | 0.7194203 | 5 | 0.03581317 | Model08 |\n",
       "| 31 | accuracy | binary | 0.7150725 | 5 | 0.03742212 | Model04 |\n",
       "\n"
      ],
      "text/plain": [
       "  neighbors .metric  .estimator mean      n std_err    .config\n",
       "1 21        accuracy binary     0.7327536 5 0.03608259 Model03\n",
       "2 91        accuracy binary     0.7324638 5 0.03536166 Model10\n",
       "3 11        accuracy binary     0.7323671 5 0.04065412 Model02\n",
       "4 81        accuracy binary     0.7323671 5 0.03947454 Model09\n",
       "5 71        accuracy binary     0.7194203 5 0.03581317 Model08\n",
       "6 31        accuracy binary     0.7150725 5 0.03742212 Model04"
      ]
     },
     "metadata": {},
     "output_type": "display_data"
    }
   ],
   "source": [
    "#creates a sequence of K values that will be tested\n",
    "gridvals <- tibble(neighbors = seq(from = 1, to = 125, by = 10))\n",
    "\n",
    "#performs the 5 fold cross validation over the given sequence of K values and outputs the data in descending order of accuracy\n",
    "heart_results_range <- heart_workflow %>%\n",
    "    tune_grid(resamples = heart_vfold, grid = gridvals) %>%\n",
    "    collect_metrics() %>%\n",
    "    filter(.metric == \"accuracy\") %>%\n",
    "    arrange(desc(mean))\n",
    "head(heart_results_range)"
   ]
  },
  {
   "cell_type": "markdown",
   "metadata": {},
   "source": [
    "Fig 7: Estimated accuracies of different K values incremented by 10 in descending order"
   ]
  },
  {
   "cell_type": "code",
   "execution_count": 3,
   "metadata": {},
   "outputs": [
    {
     "ename": "ERROR",
     "evalue": "Error in ggplot(heart_results_range, aes(x = neighbors, y = mean)): object 'heart_results_range' not found\n",
     "output_type": "error",
     "traceback": [
      "Error in ggplot(heart_results_range, aes(x = neighbors, y = mean)): object 'heart_results_range' not found\nTraceback:\n",
      "1. ggplot(heart_results_range, aes(x = neighbors, y = mean))"
     ]
    }
   ],
   "source": [
    "options(repr.plot.width = 10, repr.plot.height = 8)\n",
    "\n",
    "#plots the estimated accuracy vs K value\n",
    "accuracy_plot <- ggplot(heart_results_range, aes(x=neighbors, y= mean)) +\n",
    "    geom_line() +\n",
    "    ylim(0.6,.8) +\n",
    "    labs(x=\"Neighbors\", y = \"Estimated Accuracy\", title = \"Estimated Accuracy vs Neighbors\") +\n",
    "    theme(text = element_text(size = 18))\n",
    "accuracy_plot"
   ]
  },
  {
   "cell_type": "markdown",
   "metadata": {},
   "source": [
    "Fig 8: Line plot depicting how the estimated accuracy changes with large intervals of K values"
   ]
  },
  {
   "cell_type": "code",
   "execution_count": 15,
   "metadata": {},
   "outputs": [
    {
     "data": {
      "text/html": [
       "21"
      ],
      "text/latex": [
       "21"
      ],
      "text/markdown": [
       "21"
      ],
      "text/plain": [
       "[1] 21"
      ]
     },
     "metadata": {},
     "output_type": "display_data"
    }
   ],
   "source": [
    "#outputs the highest accuracy K value\n",
    "k_min_range <- heart_results_range %>%\n",
    "    filter(mean == max(mean)) %>%\n",
    "    select(neighbors) %>%\n",
    "    pull()\n",
    "k_min_range"
   ]
  },
  {
   "cell_type": "markdown",
   "metadata": {},
   "source": [
    "Now that we know approximately which K value produces the highest estimated accuracy, we can test values of K that are ±5 of `k_min_range` to determine the optimal K value, `k_min`. Once again, we will create a table that displays the accuracy (`mean`) in descending order and extract the K value that produces the maximum accuracy. In addition, we will visualize the results by creating a line plot that graphs how the estimated accuracy changes depending on the K value."
   ]
  },
  {
   "cell_type": "code",
   "execution_count": 16,
   "metadata": {},
   "outputs": [
    {
     "data": {
      "text/html": [
       "<table>\n",
       "<caption>A tibble: 6 × 7</caption>\n",
       "<thead>\n",
       "\t<tr><th scope=col>neighbors</th><th scope=col>.metric</th><th scope=col>.estimator</th><th scope=col>mean</th><th scope=col>n</th><th scope=col>std_err</th><th scope=col>.config</th></tr>\n",
       "\t<tr><th scope=col>&lt;dbl&gt;</th><th scope=col>&lt;chr&gt;</th><th scope=col>&lt;chr&gt;</th><th scope=col>&lt;dbl&gt;</th><th scope=col>&lt;int&gt;</th><th scope=col>&lt;dbl&gt;</th><th scope=col>&lt;chr&gt;</th></tr>\n",
       "</thead>\n",
       "<tbody>\n",
       "\t<tr><td>19</td><td>accuracy</td><td>binary</td><td>0.7501449</td><td>5</td><td>0.03513589</td><td>Model04</td></tr>\n",
       "\t<tr><td>20</td><td>accuracy</td><td>binary</td><td>0.7501449</td><td>5</td><td>0.03513589</td><td>Model05</td></tr>\n",
       "\t<tr><td>17</td><td>accuracy</td><td>binary</td><td>0.7413527</td><td>5</td><td>0.04274519</td><td>Model02</td></tr>\n",
       "\t<tr><td>18</td><td>accuracy</td><td>binary</td><td>0.7413527</td><td>5</td><td>0.04274519</td><td>Model03</td></tr>\n",
       "\t<tr><td>21</td><td>accuracy</td><td>binary</td><td>0.7327536</td><td>5</td><td>0.03608259</td><td>Model06</td></tr>\n",
       "\t<tr><td>22</td><td>accuracy</td><td>binary</td><td>0.7327536</td><td>5</td><td>0.03608259</td><td>Model07</td></tr>\n",
       "</tbody>\n",
       "</table>\n"
      ],
      "text/latex": [
       "A tibble: 6 × 7\n",
       "\\begin{tabular}{lllllll}\n",
       " neighbors & .metric & .estimator & mean & n & std\\_err & .config\\\\\n",
       " <dbl> & <chr> & <chr> & <dbl> & <int> & <dbl> & <chr>\\\\\n",
       "\\hline\n",
       "\t 19 & accuracy & binary & 0.7501449 & 5 & 0.03513589 & Model04\\\\\n",
       "\t 20 & accuracy & binary & 0.7501449 & 5 & 0.03513589 & Model05\\\\\n",
       "\t 17 & accuracy & binary & 0.7413527 & 5 & 0.04274519 & Model02\\\\\n",
       "\t 18 & accuracy & binary & 0.7413527 & 5 & 0.04274519 & Model03\\\\\n",
       "\t 21 & accuracy & binary & 0.7327536 & 5 & 0.03608259 & Model06\\\\\n",
       "\t 22 & accuracy & binary & 0.7327536 & 5 & 0.03608259 & Model07\\\\\n",
       "\\end{tabular}\n"
      ],
      "text/markdown": [
       "\n",
       "A tibble: 6 × 7\n",
       "\n",
       "| neighbors &lt;dbl&gt; | .metric &lt;chr&gt; | .estimator &lt;chr&gt; | mean &lt;dbl&gt; | n &lt;int&gt; | std_err &lt;dbl&gt; | .config &lt;chr&gt; |\n",
       "|---|---|---|---|---|---|---|\n",
       "| 19 | accuracy | binary | 0.7501449 | 5 | 0.03513589 | Model04 |\n",
       "| 20 | accuracy | binary | 0.7501449 | 5 | 0.03513589 | Model05 |\n",
       "| 17 | accuracy | binary | 0.7413527 | 5 | 0.04274519 | Model02 |\n",
       "| 18 | accuracy | binary | 0.7413527 | 5 | 0.04274519 | Model03 |\n",
       "| 21 | accuracy | binary | 0.7327536 | 5 | 0.03608259 | Model06 |\n",
       "| 22 | accuracy | binary | 0.7327536 | 5 | 0.03608259 | Model07 |\n",
       "\n"
      ],
      "text/plain": [
       "  neighbors .metric  .estimator mean      n std_err    .config\n",
       "1 19        accuracy binary     0.7501449 5 0.03513589 Model04\n",
       "2 20        accuracy binary     0.7501449 5 0.03513589 Model05\n",
       "3 17        accuracy binary     0.7413527 5 0.04274519 Model02\n",
       "4 18        accuracy binary     0.7413527 5 0.04274519 Model03\n",
       "5 21        accuracy binary     0.7327536 5 0.03608259 Model06\n",
       "6 22        accuracy binary     0.7327536 5 0.03608259 Model07"
      ]
     },
     "metadata": {},
     "output_type": "display_data"
    }
   ],
   "source": [
    "#creates a sequence of K values that will be tested\n",
    "gridvals <- tibble(neighbors = seq(from = k_min_range - 5, to = k_min_range + 5, by = 1))\n",
    "\n",
    "#performs the 5 fold cross validation over the given sequence of K values and outputs the data in descending order of accuracy\n",
    "heart_results <- heart_workflow %>%\n",
    "    tune_grid(resamples = heart_vfold, grid = gridvals) %>%\n",
    "    collect_metrics() %>%\n",
    "    filter(.metric == \"accuracy\") %>%\n",
    "    arrange(desc(mean))\n",
    "head(heart_results)"
   ]
  },
  {
   "cell_type": "markdown",
   "metadata": {},
   "source": [
    "Fig 9: Estimated accuracies of different K values incremented by 1 in descending order"
   ]
  },
  {
   "cell_type": "code",
   "execution_count": 17,
   "metadata": {},
   "outputs": [
    {
     "data": {
      "image/png": "[encoded data removed]",
      "text/plain": [
       "plot without title"
      ]
     },
     "metadata": {
      "image/png": {
       "height": 480,
       "width": 600
      }
     },
     "output_type": "display_data"
    }
   ],
   "source": [
    "options(repr.plot.width = 10, repr.plot.height = 8)\n",
    "\n",
    "#plots the estimated accuracy vs K value\n",
    "accuracy_plot2 <- ggplot(heart_results, aes(x=neighbors, y= mean)) +\n",
    "    geom_line() +\n",
    "    ylim(0.7,.8)+\n",
    "    labs(x=\"Neighbors\", y = \"Estimated Accuracy\", title = \"Estimated Accuracy vs Neighbors\") +\n",
    "    theme(text = element_text(size = 18))\n",
    "accuracy_plot2"
   ]
  },
  {
   "cell_type": "markdown",
   "metadata": {},
   "source": [
    "Fig 10: Line plot depicting how the estimated accuracy changes with small intervals of K values"
   ]
  },
  {
   "cell_type": "code",
   "execution_count": 18,
   "metadata": {},
   "outputs": [
    {
     "data": {
      "text/html": [
       "19"
      ],
      "text/latex": [
       "19"
      ],
      "text/markdown": [
       "19"
      ],
      "text/plain": [
       "[1] 19"
      ]
     },
     "metadata": {},
     "output_type": "display_data"
    }
   ],
   "source": [
    "#outputs the highest accuracy K value\n",
    "k_min <- heart_results %>%\n",
    "    filter(mean == max(mean)) %>%\n",
    "    select(neighbors) %>%\n",
    "    pull()\n",
    "\n",
    "#sets k_optimal to be the first K value of k_min incase there are two K values with the same accuracy\n",
    "k_optimal <- k_min[1]\n",
    "k_optimal"
   ]
  },
  {
   "cell_type": "markdown",
   "metadata": {},
   "source": [
    "### Testing Accuracy\n",
    "Now that the optimal k value, `k_optimal` has been determined, we will use this value to create a new classifier and test its accuracy with the `heart_testing` data."
   ]
  },
  {
   "cell_type": "code",
   "execution_count": 19,
   "metadata": {},
   "outputs": [
    {
     "data": {
      "text/html": [
       "<table>\n",
       "<caption>A tibble: 6 × 5</caption>\n",
       "<thead>\n",
       "\t<tr><th scope=col>.pred_class</th><th scope=col>age</th><th scope=col>thalach</th><th scope=col>oldpeak</th><th scope=col>Class</th></tr>\n",
       "\t<tr><th scope=col>&lt;fct&gt;</th><th scope=col>&lt;dbl&gt;</th><th scope=col>&lt;dbl&gt;</th><th scope=col>&lt;dbl&gt;</th><th scope=col>&lt;fct&gt;</th></tr>\n",
       "</thead>\n",
       "<tbody>\n",
       "\t<tr><td>0</td><td>41</td><td>172</td><td>1.4</td><td>0</td></tr>\n",
       "\t<tr><td>0</td><td>44</td><td>173</td><td>0.0</td><td>0</td></tr>\n",
       "\t<tr><td>0</td><td>48</td><td>168</td><td>1.0</td><td>1</td></tr>\n",
       "\t<tr><td>1</td><td>60</td><td>132</td><td>2.4</td><td>1</td></tr>\n",
       "\t<tr><td>0</td><td>50</td><td>158</td><td>1.6</td><td>0</td></tr>\n",
       "\t<tr><td>0</td><td>58</td><td>172</td><td>0.0</td><td>0</td></tr>\n",
       "</tbody>\n",
       "</table>\n"
      ],
      "text/latex": [
       "A tibble: 6 × 5\n",
       "\\begin{tabular}{lllll}\n",
       " .pred\\_class & age & thalach & oldpeak & Class\\\\\n",
       " <fct> & <dbl> & <dbl> & <dbl> & <fct>\\\\\n",
       "\\hline\n",
       "\t 0 & 41 & 172 & 1.4 & 0\\\\\n",
       "\t 0 & 44 & 173 & 0.0 & 0\\\\\n",
       "\t 0 & 48 & 168 & 1.0 & 1\\\\\n",
       "\t 1 & 60 & 132 & 2.4 & 1\\\\\n",
       "\t 0 & 50 & 158 & 1.6 & 0\\\\\n",
       "\t 0 & 58 & 172 & 0.0 & 0\\\\\n",
       "\\end{tabular}\n"
      ],
      "text/markdown": [
       "\n",
       "A tibble: 6 × 5\n",
       "\n",
       "| .pred_class &lt;fct&gt; | age &lt;dbl&gt; | thalach &lt;dbl&gt; | oldpeak &lt;dbl&gt; | Class &lt;fct&gt; |\n",
       "|---|---|---|---|---|\n",
       "| 0 | 41 | 172 | 1.4 | 0 |\n",
       "| 0 | 44 | 173 | 0.0 | 0 |\n",
       "| 0 | 48 | 168 | 1.0 | 1 |\n",
       "| 1 | 60 | 132 | 2.4 | 1 |\n",
       "| 0 | 50 | 158 | 1.6 | 0 |\n",
       "| 0 | 58 | 172 | 0.0 | 0 |\n",
       "\n"
      ],
      "text/plain": [
       "  .pred_class age thalach oldpeak Class\n",
       "1 0           41  172     1.4     0    \n",
       "2 0           44  173     0.0     0    \n",
       "3 0           48  168     1.0     1    \n",
       "4 1           60  132     2.4     1    \n",
       "5 0           50  158     1.6     0    \n",
       "6 0           58  172     0.0     0    "
      ]
     },
     "metadata": {},
     "output_type": "display_data"
    }
   ],
   "source": [
    "#creates the specification for the model\n",
    "heart_spec_optimal <- nearest_neighbor(weight = \"rectangular\", neighbors = k_optimal) %>%\n",
    "    set_engine(\"kknn\") %>%\n",
    "    set_mode(\"classification\")\n",
    "\n",
    "#creates a workflow\n",
    "heart_fit <- workflow() %>%\n",
    "    add_recipe(heart_recipe) %>%\n",
    "    add_model(heart_spec_optimal) %>%\n",
    "    fit(heart_training)\n",
    "\n",
    "#creates a tibble with both the predictions and the actual values of the testing data\n",
    "heart_predictions <- heart_fit %>%\n",
    "    predict(heart_testing) %>%\n",
    "    bind_cols(heart_testing)\n",
    "head(heart_predictions)"
   ]
  },
  {
   "cell_type": "markdown",
   "metadata": {},
   "source": [
    "Fig 11: A few observations with our classifiers predictions, `.pred_class`, and their actual classes, `Class`"
   ]
  },
  {
   "cell_type": "code",
   "execution_count": 20,
   "metadata": {},
   "outputs": [
    {
     "data": {
      "text/html": [
       "0.733333333333333"
      ],
      "text/latex": [
       "0.733333333333333"
      ],
      "text/markdown": [
       "0.733333333333333"
      ],
      "text/plain": [
       "[1] 0.7333333"
      ]
     },
     "metadata": {},
     "output_type": "display_data"
    }
   ],
   "source": [
    "#produces the actual accuracy of the model\n",
    "heart_accuracy <- heart_predictions %>%\n",
    "    metrics(truth = Class, estimate = .pred_class) %>%\n",
    "    filter(.metric == \"accuracy\") %>%\n",
    "    select(.estimate) %>%\n",
    "    pull()\n",
    "heart_accuracy"
   ]
  },
  {
   "cell_type": "markdown",
   "metadata": {},
   "source": [
    "The accuracy of our classifier with the test data ended up being slightly lower than the estimated accuracy obtained when performing 5-fold cross validation with the training data. Since the classifier performed only marginally worse with the testing set than with the training set, this indicates that our training process with standardization and cross-validation was correctly applied. To get a visual breakdown of how the classifier is performing, we can create a confusion matrix to display counts for each of the different cases."
   ]
  },
  {
   "cell_type": "code",
   "execution_count": 21,
   "metadata": {},
   "outputs": [
    {
     "data": {
      "text/plain": [
       "          Truth\n",
       "Prediction  0  1\n",
       "         0 33 12\n",
       "         1  8 22"
      ]
     },
     "metadata": {},
     "output_type": "display_data"
    }
   ],
   "source": [
    "#produces a table displaying the confusion matrix\n",
    "confusion <- heart_predictions %>%\n",
    "    conf_mat(truth = Class, estimate = .pred_class)\n",
    "confusion"
   ]
  },
  {
   "cell_type": "markdown",
   "metadata": {},
   "source": [
    "Fig 12: Confusion matrix for our classifier when tested on the `heart_testing` data"
   ]
  },
  {
   "cell_type": "markdown",
   "metadata": {},
   "source": [
    "As we can see from the confusion matrix, our classifier made more mistakes with false positives than with false negatives."
   ]
  },
  {
   "cell_type": "markdown",
   "metadata": {},
   "source": [
    "## 3. Discussion"
   ]
  },
  {
   "cell_type": "markdown",
   "metadata": {},
   "source": [
    "### Summary\n",
    "\n",
    "To summarize the results obtained above, we created a heart disease classifier using KNN with three numerical and relevant predictors for heart disease: age, thalach, and oldpeak. Then we measured the accuracy of our classifier twice on two different ranges of K values (each time narrowing in on the optimal K value) with cross validation. As a result, we found that `K = 19` produced the highest estimated accuracy. Using this K value, we made predictions for the testing data and obtained an accuracy of `73%`.\n",
    "\n",
    "### Significance\n",
    "\n",
    "As outlined in the introduction, with this project we want to determine if the variables we chose act as good predictors for our KNN classifier. Then, using those predictors, we created an accurate classifier to detect the presence of heart disease with an accuracy of `73%`. As outlined in `Fig. 12`, our classifier incorrectly predicted many false negatives. This means that if this classifier was the only test for heart disease, some patients with heart disease would go by undetected. Due to this fact, although our classifier is not perfect, it can still serve as a preliminary test that can be used in order to determine if further testing must be done. Since this classifier only requires general medical data about a patient, this classifier could be streamlined and be made available to the public to allow them to monitor their own health and seek medical attention if the results show they might have heart disease. In addition, with more research, we could also extend this classifier to attempt to classify other forms of common diseases such as cancer.\n",
    "\n",
    "### Future Improvements\n",
    "To conclude our project, we will propose some ideas that could be implemented to improve the results of our classifier. When using the KNN classifier in our project, every data point has the same weight. One thing that we could consider for future versions of the classifier is, does weighting the points based on how close they are to the new observation increase the accuracy of the classifier? Also, we only chose 3 of the 13 possible attributes to act as predictors for our classifier. How might choosing a different set of predictors alter the results obtained from our analysis?"
   ]
  },
  {
   "cell_type": "markdown",
   "metadata": {},
   "source": [
    "## 4. References"
   ]
  },
  {
   "cell_type": "markdown",
   "metadata": {},
   "source": [
    "Chellammal, S., &amp; Sharmila, R. (2019). Recommendation of attributes for heart disease prediction using Correlation Measure. International Journal of Recent Technology and Engineering, 8(2S3), 870–875. https://doi.org/10.35940/ijrte.b1163.0782S319 \n",
    "\n",
    "Dua, D. and Graff, C. (2019). UCI Machine Learning Repository. Retrieved February 24, 2022, from http://archive.ics.uci.edu/ml. Irvine, CA: University of California, School of Information and Computer Science.\n",
    "\n",
    "World Health Organization. (n.d.). Cardiovascular diseases. World Health Organization. Retrieved February 28, 2022, from https://www.who.int/health-topics/cardiovascular-diseases "
   ]
  }
 ],
 "metadata": {
  "kernelspec": {
   "display_name": "R",
   "language": "R",
   "name": "ir"
  },
  "language_info": {
   "codemirror_mode": "r",
   "file_extension": ".r",
   "mimetype": "text/x-r-source",
   "name": "R",
   "pygments_lexer": "r",
   "version": "4.0.0"
  }
 },
 "nbformat": 4,
 "nbformat_minor": 4
}
