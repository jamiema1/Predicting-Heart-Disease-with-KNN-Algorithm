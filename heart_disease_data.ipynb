{
 "cells": [
  {
   "cell_type": "markdown",
   "metadata": {},
   "source": [
    "This file contains the heart disease data"
   ]
  },
  {
   "cell_type": "code",
   "execution_count": 2,
   "metadata": {},
   "outputs": [
    {
     "name": "stderr",
     "output_type": "stream",
     "text": [
      "── \u001b[1mAttaching packages\u001b[22m ─────────────────────────────────────── tidyverse 1.3.0 ──\n",
      "\n",
      "\u001b[32m✔\u001b[39m \u001b[34mggplot2\u001b[39m 3.3.2     \u001b[32m✔\u001b[39m \u001b[34mpurrr  \u001b[39m 0.3.4\n",
      "\u001b[32m✔\u001b[39m \u001b[34mtibble \u001b[39m 3.0.3     \u001b[32m✔\u001b[39m \u001b[34mdplyr  \u001b[39m 1.0.2\n",
      "\u001b[32m✔\u001b[39m \u001b[34mtidyr  \u001b[39m 1.1.2     \u001b[32m✔\u001b[39m \u001b[34mstringr\u001b[39m 1.4.0\n",
      "\u001b[32m✔\u001b[39m \u001b[34mreadr  \u001b[39m 1.3.1     \u001b[32m✔\u001b[39m \u001b[34mforcats\u001b[39m 0.5.0\n",
      "\n",
      "Warning message:\n",
      "“package ‘ggplot2’ was built under R version 4.0.1”\n",
      "Warning message:\n",
      "“package ‘tibble’ was built under R version 4.0.2”\n",
      "Warning message:\n",
      "“package ‘tidyr’ was built under R version 4.0.2”\n",
      "Warning message:\n",
      "“package ‘dplyr’ was built under R version 4.0.2”\n",
      "── \u001b[1mConflicts\u001b[22m ────────────────────────────────────────── tidyverse_conflicts() ──\n",
      "\u001b[31m✖\u001b[39m \u001b[34mdplyr\u001b[39m::\u001b[32mfilter()\u001b[39m masks \u001b[34mstats\u001b[39m::filter()\n",
      "\u001b[31m✖\u001b[39m \u001b[34mdplyr\u001b[39m::\u001b[32mlag()\u001b[39m    masks \u001b[34mstats\u001b[39m::lag()\n",
      "\n",
      "Warning message:\n",
      "“package ‘tidymodels’ was built under R version 4.0.2”\n",
      "── \u001b[1mAttaching packages\u001b[22m ────────────────────────────────────── tidymodels 0.1.1 ──\n",
      "\n",
      "\u001b[32m✔\u001b[39m \u001b[34mbroom    \u001b[39m 0.7.0      \u001b[32m✔\u001b[39m \u001b[34mrecipes  \u001b[39m 0.1.13\n",
      "\u001b[32m✔\u001b[39m \u001b[34mdials    \u001b[39m 0.0.9      \u001b[32m✔\u001b[39m \u001b[34mrsample  \u001b[39m 0.0.7 \n",
      "\u001b[32m✔\u001b[39m \u001b[34minfer    \u001b[39m 0.5.4      \u001b[32m✔\u001b[39m \u001b[34mtune     \u001b[39m 0.1.1 \n",
      "\u001b[32m✔\u001b[39m \u001b[34mmodeldata\u001b[39m 0.0.2      \u001b[32m✔\u001b[39m \u001b[34mworkflows\u001b[39m 0.2.0 \n",
      "\u001b[32m✔\u001b[39m \u001b[34mparsnip  \u001b[39m 0.1.3      \u001b[32m✔\u001b[39m \u001b[34myardstick\u001b[39m 0.0.7 \n",
      "\n",
      "Warning message:\n",
      "“package ‘broom’ was built under R version 4.0.2”\n",
      "Warning message:\n",
      "“package ‘dials’ was built under R version 4.0.2”\n",
      "Warning message:\n",
      "“package ‘infer’ was built under R version 4.0.3”\n",
      "Warning message:\n",
      "“package ‘modeldata’ was built under R version 4.0.1”\n",
      "Warning message:\n",
      "“package ‘parsnip’ was built under R version 4.0.2”\n",
      "Warning message:\n",
      "“package ‘recipes’ was built under R version 4.0.1”\n",
      "Warning message:\n",
      "“package ‘tune’ was built under R version 4.0.2”\n",
      "Warning message:\n",
      "“package ‘workflows’ was built under R version 4.0.2”\n",
      "Warning message:\n",
      "“package ‘yardstick’ was built under R version 4.0.2”\n",
      "── \u001b[1mConflicts\u001b[22m ───────────────────────────────────────── tidymodels_conflicts() ──\n",
      "\u001b[31m✖\u001b[39m \u001b[34mscales\u001b[39m::\u001b[32mdiscard()\u001b[39m masks \u001b[34mpurrr\u001b[39m::discard()\n",
      "\u001b[31m✖\u001b[39m \u001b[34mdplyr\u001b[39m::\u001b[32mfilter()\u001b[39m   masks \u001b[34mstats\u001b[39m::filter()\n",
      "\u001b[31m✖\u001b[39m \u001b[34mrecipes\u001b[39m::\u001b[32mfixed()\u001b[39m  masks \u001b[34mstringr\u001b[39m::fixed()\n",
      "\u001b[31m✖\u001b[39m \u001b[34mdplyr\u001b[39m::\u001b[32mlag()\u001b[39m      masks \u001b[34mstats\u001b[39m::lag()\n",
      "\u001b[31m✖\u001b[39m \u001b[34myardstick\u001b[39m::\u001b[32mspec()\u001b[39m masks \u001b[34mreadr\u001b[39m::spec()\n",
      "\u001b[31m✖\u001b[39m \u001b[34mrecipes\u001b[39m::\u001b[32mstep()\u001b[39m   masks \u001b[34mstats\u001b[39m::step()\n",
      "\n"
     ]
    }
   ],
   "source": [
    "library(tidyverse)\n",
    "library(repr)\n",
    "library(tidymodels)"
   ]
  },
  {
   "cell_type": "code",
   "execution_count": 174,
   "metadata": {},
   "outputs": [
    {
     "name": "stderr",
     "output_type": "stream",
     "text": [
      "Warning message:\n",
      "“1102 parsing failures.\n",
      "row col  expected    actual                                                                                     file\n",
      "  1  -- 8 columns 7 columns 'https://archive.ics.uci.edu/ml/machine-learning-databases/heart-disease/cleveland.data'\n",
      " 10  5  a double  name      'https://archive.ics.uci.edu/ml/machine-learning-databases/heart-disease/cleveland.data'\n",
      " 10  -- 8 columns 5 columns 'https://archive.ics.uci.edu/ml/machine-learning-databases/heart-disease/cleveland.data'\n",
      " 11  -- 8 columns 7 columns 'https://archive.ics.uci.edu/ml/machine-learning-databases/heart-disease/cleveland.data'\n",
      " 20  5  a double  name      'https://archive.ics.uci.edu/ml/machine-learning-databases/heart-disease/cleveland.data'\n",
      "... ... ......... ......... ........................................................................................\n",
      "See problems(...) for more details.\n",
      "”\n"
     ]
    }
   ],
   "source": [
    "#reads in the data table\n",
    "original_data <- read_delim(\"https://archive.ics.uci.edu/ml/machine-learning-databases/heart-disease/cleveland.data\",\n",
    "                col_names = paste(1:8),\n",
    "                col_type = c(\"5\" = \"d\"),\n",
    "                delim = \" \")\n",
    "\n",
    "#adding an index column to the data frame for future reference\n",
    "data <- original_data %>%\n",
    "        mutate(index = as.numeric(rownames(original_data))) %>%\n",
    "        filter(index <= 2820) #excluding data after the 2820th row, as the data is unusable because there is too much missing data"
   ]
  },
  {
   "cell_type": "code",
   "execution_count": 175,
   "metadata": {},
   "outputs": [
    {
     "name": "stderr",
     "output_type": "stream",
     "text": [
      "Warning message in merge.data.frame(., section_4, by = \"index\"):\n",
      "“column names ‘1.x’, ‘2.x’, ‘3.x’, ‘4.x’, ‘5.x’, ‘6.x’, ‘7.x’, ‘1.y’, ‘2.y’, ‘3.y’, ‘4.y’, ‘5.y’, ‘6.y’, ‘7.y’ are duplicated in the result”\n",
      "Warning message in merge.data.frame(., section_5, by = \"index\"):\n",
      "“column names ‘1.x’, ‘2.x’, ‘3.x’, ‘4.x’, ‘5.x’, ‘6.x’, ‘7.x’, ‘1.y’, ‘2.y’, ‘3.y’, ‘4.y’, ‘5.y’, ‘6.y’, ‘7.y’, ‘8.x’, ‘8.y’ are duplicated in the result”\n",
      "Warning message in merge.data.frame(., section_6, by = \"index\"):\n",
      "“column names ‘1.x’, ‘2.x’, ‘3.x’, ‘4.x’, ‘5.x’, ‘6.x’, ‘7.x’, ‘1.y’, ‘2.y’, ‘3.y’, ‘4.y’, ‘5.y’, ‘6.y’, ‘7.y’, ‘8.x’, ‘1.x’, ‘2.x’, ‘3.x’, ‘4.x’, ‘5.x’, ‘6.x’, ‘7.x’, ‘8.y’, ‘1.y’, ‘2.y’, ‘3.y’, ‘4.y’, ‘5.y’, ‘6.y’, ‘7.y’ are duplicated in the result”\n",
      "Warning message in merge.data.frame(., section_7, by = \"index\"):\n",
      "“column names ‘1.x’, ‘2.x’, ‘3.x’, ‘4.x’, ‘5.x’, ‘6.x’, ‘7.x’, ‘1.y’, ‘2.y’, ‘3.y’, ‘4.y’, ‘5.y’, ‘6.y’, ‘7.y’, ‘8.x’, ‘1.x’, ‘2.x’, ‘3.x’, ‘4.x’, ‘5.x’, ‘6.x’, ‘7.x’, ‘8.y’, ‘1.y’, ‘2.y’, ‘3.y’, ‘4.y’, ‘5.y’, ‘6.y’, ‘7.y’, ‘8.x’, ‘8.y’ are duplicated in the result”\n",
      "Warning message in merge.data.frame(., section_8, by = \"index\"):\n",
      "“column names ‘1.x’, ‘2.x’, ‘3.x’, ‘4.x’, ‘5.x’, ‘6.x’, ‘7.x’, ‘1.y’, ‘2.y’, ‘3.y’, ‘4.y’, ‘5.y’, ‘6.y’, ‘7.y’, ‘8.x’, ‘1.x’, ‘2.x’, ‘3.x’, ‘4.x’, ‘5.x’, ‘6.x’, ‘7.x’, ‘8.y’, ‘1.y’, ‘2.y’, ‘3.y’, ‘4.y’, ‘5.y’, ‘6.y’, ‘7.y’, ‘8.x’, ‘1.x’, ‘2.x’, ‘3.x’, ‘4.x’, ‘5.x’, ‘6.x’, ‘7.x’, ‘8.y’, ‘1.y’, ‘2.y’, ‘3.y’, ‘4.y’, ‘5.y’, ‘6.y’, ‘7.y’ are duplicated in the result”\n",
      "Warning message in merge.data.frame(., section_9, by = \"index\"):\n",
      "“column names ‘1.x’, ‘2.x’, ‘3.x’, ‘4.x’, ‘5.x’, ‘6.x’, ‘7.x’, ‘1.y’, ‘2.y’, ‘3.y’, ‘4.y’, ‘5.y’, ‘6.y’, ‘7.y’, ‘8.x’, ‘1.x’, ‘2.x’, ‘3.x’, ‘4.x’, ‘5.x’, ‘6.x’, ‘7.x’, ‘8.y’, ‘1.y’, ‘2.y’, ‘3.y’, ‘4.y’, ‘5.y’, ‘6.y’, ‘7.y’, ‘8.x’, ‘1.x’, ‘2.x’, ‘3.x’, ‘4.x’, ‘5.x’, ‘6.x’, ‘7.x’, ‘8.y’, ‘1.y’, ‘2.y’, ‘3.y’, ‘4.y’, ‘5.y’, ‘6.y’, ‘7.y’, ‘8.x’, ‘8.y’ are duplicated in the result”\n",
      "Warning message in merge.data.frame(., section_10, by = \"index\"):\n",
      "“column names ‘1.x’, ‘2.x’, ‘3.x’, ‘4.x’, ‘5.x’, ‘6.x’, ‘7.x’, ‘1.y’, ‘2.y’, ‘3.y’, ‘4.y’, ‘5.y’, ‘6.y’, ‘7.y’, ‘8.x’, ‘1.x’, ‘2.x’, ‘3.x’, ‘4.x’, ‘5.x’, ‘6.x’, ‘7.x’, ‘8.y’, ‘1.y’, ‘2.y’, ‘3.y’, ‘4.y’, ‘5.y’, ‘6.y’, ‘7.y’, ‘8.x’, ‘1.x’, ‘2.x’, ‘3.x’, ‘4.x’, ‘5.x’, ‘6.x’, ‘7.x’, ‘8.y’, ‘1.y’, ‘2.y’, ‘3.y’, ‘4.y’, ‘5.y’, ‘6.y’, ‘7.y’, ‘8.x’, ‘1.x’, ‘2.x’, ‘3.x’, ‘4.x’, ‘8.y’, ‘1.y’, ‘2.y’, ‘3.y’, ‘4.y’ are duplicated in the result”\n"
     ]
    },
    {
     "data": {
      "text/html": [
       "<table>\n",
       "<caption>A data.frame: 6 × 76</caption>\n",
       "<thead>\n",
       "\t<tr><th></th><th scope=col>index</th><th scope=col>Stat 1</th><th scope=col>Stat 2</th><th scope=col>Stat 3</th><th scope=col>Stat 4</th><th scope=col>Stat 5</th><th scope=col>Stat 6</th><th scope=col>Stat 7</th><th scope=col>Stat 8</th><th scope=col>Stat 9</th><th scope=col>⋯</th><th scope=col>Stat 66</th><th scope=col>Stat 67</th><th scope=col>Stat 68</th><th scope=col>Stat 69</th><th scope=col>Stat 70</th><th scope=col>Stat 71</th><th scope=col>Stat 72</th><th scope=col>Stat 73</th><th scope=col>Stat 74</th><th scope=col>Stat 75</th></tr>\n",
       "\t<tr><th></th><th scope=col>&lt;dbl&gt;</th><th scope=col>&lt;dbl&gt;</th><th scope=col>&lt;dbl&gt;</th><th scope=col>&lt;dbl&gt;</th><th scope=col>&lt;dbl&gt;</th><th scope=col>&lt;dbl&gt;</th><th scope=col>&lt;dbl&gt;</th><th scope=col>&lt;dbl&gt;</th><th scope=col>&lt;dbl&gt;</th><th scope=col>&lt;dbl&gt;</th><th scope=col>⋯</th><th scope=col>&lt;dbl&gt;</th><th scope=col>&lt;dbl&gt;</th><th scope=col>&lt;dbl&gt;</th><th scope=col>&lt;dbl&gt;</th><th scope=col>&lt;dbl&gt;</th><th scope=col>&lt;dbl&gt;</th><th scope=col>&lt;dbl&gt;</th><th scope=col>&lt;dbl&gt;</th><th scope=col>&lt;dbl&gt;</th><th scope=col>&lt;dbl&gt;</th></tr>\n",
       "</thead>\n",
       "<tbody>\n",
       "\t<tr><th scope=row>1</th><td> 1</td><td>1</td><td>0</td><td>63</td><td>1</td><td>-9</td><td>-9</td><td>-9</td><td>-9</td><td>1</td><td>⋯</td><td>-9</td><td>1</td><td>1</td><td>1</td><td>1</td><td>1</td><td>1</td><td>1</td><td>-9</td><td>-9</td></tr>\n",
       "\t<tr><th scope=row>2</th><td>11</td><td>2</td><td>0</td><td>67</td><td>1</td><td>-9</td><td>-9</td><td>-9</td><td>-9</td><td>4</td><td>⋯</td><td>-9</td><td>1</td><td>1</td><td>1</td><td>1</td><td>1</td><td>1</td><td>1</td><td>-9</td><td>-9</td></tr>\n",
       "\t<tr><th scope=row>3</th><td>21</td><td>3</td><td>0</td><td>67</td><td>1</td><td>-9</td><td>-9</td><td>-9</td><td>-9</td><td>4</td><td>⋯</td><td>-9</td><td>2</td><td>2</td><td>1</td><td>1</td><td>1</td><td>7</td><td>3</td><td>-9</td><td>-9</td></tr>\n",
       "\t<tr><th scope=row>4</th><td>31</td><td>4</td><td>0</td><td>37</td><td>1</td><td>-9</td><td>-9</td><td>-9</td><td>-9</td><td>3</td><td>⋯</td><td>-9</td><td>1</td><td>1</td><td>1</td><td>1</td><td>1</td><td>1</td><td>1</td><td>-9</td><td>-9</td></tr>\n",
       "\t<tr><th scope=row>5</th><td>41</td><td>6</td><td>0</td><td>41</td><td>0</td><td>-9</td><td>-9</td><td>-9</td><td>-9</td><td>2</td><td>⋯</td><td>-9</td><td>1</td><td>1</td><td>1</td><td>1</td><td>1</td><td>1</td><td>1</td><td>-9</td><td>-9</td></tr>\n",
       "\t<tr><th scope=row>6</th><td>51</td><td>7</td><td>0</td><td>56</td><td>1</td><td>-9</td><td>-9</td><td>-9</td><td>-9</td><td>2</td><td>⋯</td><td>-9</td><td>1</td><td>1</td><td>1</td><td>1</td><td>1</td><td>1</td><td>1</td><td>-9</td><td>-9</td></tr>\n",
       "</tbody>\n",
       "</table>\n"
      ],
      "text/latex": [
       "A data.frame: 6 × 76\n",
       "\\begin{tabular}{r|lllllllllllllllllllll}\n",
       "  & index & Stat 1 & Stat 2 & Stat 3 & Stat 4 & Stat 5 & Stat 6 & Stat 7 & Stat 8 & Stat 9 & ⋯ & Stat 66 & Stat 67 & Stat 68 & Stat 69 & Stat 70 & Stat 71 & Stat 72 & Stat 73 & Stat 74 & Stat 75\\\\\n",
       "  & <dbl> & <dbl> & <dbl> & <dbl> & <dbl> & <dbl> & <dbl> & <dbl> & <dbl> & <dbl> & ⋯ & <dbl> & <dbl> & <dbl> & <dbl> & <dbl> & <dbl> & <dbl> & <dbl> & <dbl> & <dbl>\\\\\n",
       "\\hline\n",
       "\t1 &  1 & 1 & 0 & 63 & 1 & -9 & -9 & -9 & -9 & 1 & ⋯ & -9 & 1 & 1 & 1 & 1 & 1 & 1 & 1 & -9 & -9\\\\\n",
       "\t2 & 11 & 2 & 0 & 67 & 1 & -9 & -9 & -9 & -9 & 4 & ⋯ & -9 & 1 & 1 & 1 & 1 & 1 & 1 & 1 & -9 & -9\\\\\n",
       "\t3 & 21 & 3 & 0 & 67 & 1 & -9 & -9 & -9 & -9 & 4 & ⋯ & -9 & 2 & 2 & 1 & 1 & 1 & 7 & 3 & -9 & -9\\\\\n",
       "\t4 & 31 & 4 & 0 & 37 & 1 & -9 & -9 & -9 & -9 & 3 & ⋯ & -9 & 1 & 1 & 1 & 1 & 1 & 1 & 1 & -9 & -9\\\\\n",
       "\t5 & 41 & 6 & 0 & 41 & 0 & -9 & -9 & -9 & -9 & 2 & ⋯ & -9 & 1 & 1 & 1 & 1 & 1 & 1 & 1 & -9 & -9\\\\\n",
       "\t6 & 51 & 7 & 0 & 56 & 1 & -9 & -9 & -9 & -9 & 2 & ⋯ & -9 & 1 & 1 & 1 & 1 & 1 & 1 & 1 & -9 & -9\\\\\n",
       "\\end{tabular}\n"
      ],
      "text/markdown": [
       "\n",
       "A data.frame: 6 × 76\n",
       "\n",
       "| <!--/--> | index &lt;dbl&gt; | Stat 1 &lt;dbl&gt; | Stat 2 &lt;dbl&gt; | Stat 3 &lt;dbl&gt; | Stat 4 &lt;dbl&gt; | Stat 5 &lt;dbl&gt; | Stat 6 &lt;dbl&gt; | Stat 7 &lt;dbl&gt; | Stat 8 &lt;dbl&gt; | Stat 9 &lt;dbl&gt; | ⋯ ⋯ | Stat 66 &lt;dbl&gt; | Stat 67 &lt;dbl&gt; | Stat 68 &lt;dbl&gt; | Stat 69 &lt;dbl&gt; | Stat 70 &lt;dbl&gt; | Stat 71 &lt;dbl&gt; | Stat 72 &lt;dbl&gt; | Stat 73 &lt;dbl&gt; | Stat 74 &lt;dbl&gt; | Stat 75 &lt;dbl&gt; |\n",
       "|---|---|---|---|---|---|---|---|---|---|---|---|---|---|---|---|---|---|---|---|---|---|\n",
       "| 1 |  1 | 1 | 0 | 63 | 1 | -9 | -9 | -9 | -9 | 1 | ⋯ | -9 | 1 | 1 | 1 | 1 | 1 | 1 | 1 | -9 | -9 |\n",
       "| 2 | 11 | 2 | 0 | 67 | 1 | -9 | -9 | -9 | -9 | 4 | ⋯ | -9 | 1 | 1 | 1 | 1 | 1 | 1 | 1 | -9 | -9 |\n",
       "| 3 | 21 | 3 | 0 | 67 | 1 | -9 | -9 | -9 | -9 | 4 | ⋯ | -9 | 2 | 2 | 1 | 1 | 1 | 7 | 3 | -9 | -9 |\n",
       "| 4 | 31 | 4 | 0 | 37 | 1 | -9 | -9 | -9 | -9 | 3 | ⋯ | -9 | 1 | 1 | 1 | 1 | 1 | 1 | 1 | -9 | -9 |\n",
       "| 5 | 41 | 6 | 0 | 41 | 0 | -9 | -9 | -9 | -9 | 2 | ⋯ | -9 | 1 | 1 | 1 | 1 | 1 | 1 | 1 | -9 | -9 |\n",
       "| 6 | 51 | 7 | 0 | 56 | 1 | -9 | -9 | -9 | -9 | 2 | ⋯ | -9 | 1 | 1 | 1 | 1 | 1 | 1 | 1 | -9 | -9 |\n",
       "\n"
      ],
      "text/plain": [
       "  index Stat 1 Stat 2 Stat 3 Stat 4 Stat 5 Stat 6 Stat 7 Stat 8 Stat 9 ⋯\n",
       "1  1    1      0      63     1      -9     -9     -9     -9     1      ⋯\n",
       "2 11    2      0      67     1      -9     -9     -9     -9     4      ⋯\n",
       "3 21    3      0      67     1      -9     -9     -9     -9     4      ⋯\n",
       "4 31    4      0      37     1      -9     -9     -9     -9     3      ⋯\n",
       "5 41    6      0      41     0      -9     -9     -9     -9     2      ⋯\n",
       "6 51    7      0      56     1      -9     -9     -9     -9     2      ⋯\n",
       "  Stat 66 Stat 67 Stat 68 Stat 69 Stat 70 Stat 71 Stat 72 Stat 73 Stat 74\n",
       "1 -9      1       1       1       1       1       1       1       -9     \n",
       "2 -9      1       1       1       1       1       1       1       -9     \n",
       "3 -9      2       2       1       1       1       7       3       -9     \n",
       "4 -9      1       1       1       1       1       1       1       -9     \n",
       "5 -9      1       1       1       1       1       1       1       -9     \n",
       "6 -9      1       1       1       1       1       1       1       -9     \n",
       "  Stat 75\n",
       "1 -9     \n",
       "2 -9     \n",
       "3 -9     \n",
       "4 -9     \n",
       "5 -9     \n",
       "6 -9     "
      ]
     },
     "metadata": {},
     "output_type": "display_data"
    }
   ],
   "source": [
    "#creates an individual data frame for each section of data\n",
    "section_1 <- data %>%\n",
    "            filter((index - 1) %% 10 == 0) %>%\n",
    "            select(-\"8\") #removing columns that have no values\n",
    "section_2 <- data %>%\n",
    "            filter((index - 1) %% 10 == 1) %>%\n",
    "            mutate(index = index - 1)\n",
    "section_3 <- data %>%\n",
    "            filter((index - 1) %% 10 == 2) %>%\n",
    "            mutate(index = index - 2)\n",
    "section_4 <- data %>%\n",
    "            filter((index - 1) %% 10 == 3) %>%\n",
    "            mutate(index = index - 3)\n",
    "section_5 <- data %>%\n",
    "            filter((index - 1) %% 10 == 4) %>%\n",
    "            mutate(index = index - 4)\n",
    "section_6 <- data %>%\n",
    "            filter((index - 1) %% 10 == 5) %>%\n",
    "            mutate(index = index - 5)\n",
    "section_7 <- data %>%\n",
    "            filter((index - 1) %% 10 == 6) %>%\n",
    "            mutate(index = index - 6)\n",
    "section_8 <- data %>%\n",
    "            filter((index - 1) %% 10 == 7) %>%\n",
    "            mutate(index = index - 7)\n",
    "section_9 <- data %>%\n",
    "            filter((index - 1) %% 10 == 8) %>%\n",
    "            mutate(index = index - 8)\n",
    "section_10 <- data %>%\n",
    "            filter((index - 1) %% 10 == 9) %>%\n",
    "            mutate(index = index - 9) %>%\n",
    "            select(-\"5\",-\"6\",-\"7\",-\"8\") #removing columns that have no values\n",
    "\n",
    "#combines all of the individual data tables into one data table\n",
    "heart_data_merge <- merge(section_1, section_2, by=\"index\") %>%\n",
    "            merge(section_3, by = \"index\") %>%\n",
    "            merge(section_4, by = \"index\") %>%\n",
    "            merge(section_5, by = \"index\") %>%\n",
    "            merge(section_6, by = \"index\") %>%\n",
    "            merge(section_7, by = \"index\") %>%\n",
    "            merge(section_8, by = \"index\") %>%\n",
    "            merge(section_9, by = \"index\") %>%\n",
    "            merge(section_10, by = \"index\")\n",
    "\n",
    "#makes sure the list only contains the index column name\n",
    "cnames <- c(\"index\")\n",
    "#numbers the columns 1 to max\n",
    "for (i in 1:(ncol(heart_data_merge)-1)){\n",
    "    if (i == 58){\n",
    "        cnames <- c(cnames, c(\"diagnosis\"))  #renames the \n",
    "    } else {\n",
    "        cnames <- c(cnames, paste(\"Stat\", c(i)))\n",
    "    }\n",
    "}\n",
    "\n",
    "#renames the column names to the appriate ones\n",
    "colnames(heart_data_merge) <- cnames\n",
    "\n",
    "#removes the index column\n",
    "heart_data <- select(heart_data_merge, -index)\n",
    "head(heart_data_merge)"
   ]
  },
  {
   "cell_type": "code",
   "execution_count": 176,
   "metadata": {},
   "outputs": [
    {
     "data": {
      "text/html": [
       "<table>\n",
       "<caption>A data.frame: 6 × 14</caption>\n",
       "<thead>\n",
       "\t<tr><th></th><th scope=col>age</th><th scope=col>sex</th><th scope=col>cp</th><th scope=col>trestbps</th><th scope=col>chol</th><th scope=col>fbs</th><th scope=col>restecg</th><th scope=col>thalach</th><th scope=col>exang</th><th scope=col>oldpeak</th><th scope=col>slope</th><th scope=col>ca</th><th scope=col>thal</th><th scope=col>num</th></tr>\n",
       "\t<tr><th></th><th scope=col>&lt;dbl&gt;</th><th scope=col>&lt;dbl&gt;</th><th scope=col>&lt;dbl&gt;</th><th scope=col>&lt;dbl&gt;</th><th scope=col>&lt;dbl&gt;</th><th scope=col>&lt;dbl&gt;</th><th scope=col>&lt;dbl&gt;</th><th scope=col>&lt;dbl&gt;</th><th scope=col>&lt;dbl&gt;</th><th scope=col>&lt;dbl&gt;</th><th scope=col>&lt;dbl&gt;</th><th scope=col>&lt;dbl&gt;</th><th scope=col>&lt;dbl&gt;</th><th scope=col>&lt;dbl&gt;</th></tr>\n",
       "</thead>\n",
       "<tbody>\n",
       "\t<tr><th scope=row>1</th><td>63</td><td>1</td><td>1</td><td>145</td><td>233</td><td>1</td><td>2</td><td>150</td><td>0</td><td>2.3</td><td>3</td><td>0</td><td>6</td><td>0</td></tr>\n",
       "\t<tr><th scope=row>2</th><td>67</td><td>1</td><td>4</td><td>160</td><td>286</td><td>0</td><td>2</td><td>108</td><td>1</td><td>1.5</td><td>2</td><td>3</td><td>3</td><td>2</td></tr>\n",
       "\t<tr><th scope=row>3</th><td>67</td><td>1</td><td>4</td><td>120</td><td>229</td><td>0</td><td>2</td><td>129</td><td>1</td><td>2.6</td><td>2</td><td>2</td><td>7</td><td>1</td></tr>\n",
       "\t<tr><th scope=row>4</th><td>37</td><td>1</td><td>3</td><td>130</td><td>250</td><td>0</td><td>0</td><td>187</td><td>0</td><td>3.5</td><td>3</td><td>0</td><td>3</td><td>0</td></tr>\n",
       "\t<tr><th scope=row>5</th><td>41</td><td>0</td><td>2</td><td>130</td><td>204</td><td>0</td><td>2</td><td>172</td><td>0</td><td>1.4</td><td>1</td><td>0</td><td>3</td><td>0</td></tr>\n",
       "\t<tr><th scope=row>6</th><td>56</td><td>1</td><td>2</td><td>120</td><td>236</td><td>0</td><td>0</td><td>178</td><td>0</td><td>0.8</td><td>1</td><td>0</td><td>3</td><td>0</td></tr>\n",
       "</tbody>\n",
       "</table>\n"
      ],
      "text/latex": [
       "A data.frame: 6 × 14\n",
       "\\begin{tabular}{r|llllllllllllll}\n",
       "  & age & sex & cp & trestbps & chol & fbs & restecg & thalach & exang & oldpeak & slope & ca & thal & num\\\\\n",
       "  & <dbl> & <dbl> & <dbl> & <dbl> & <dbl> & <dbl> & <dbl> & <dbl> & <dbl> & <dbl> & <dbl> & <dbl> & <dbl> & <dbl>\\\\\n",
       "\\hline\n",
       "\t1 & 63 & 1 & 1 & 145 & 233 & 1 & 2 & 150 & 0 & 2.3 & 3 & 0 & 6 & 0\\\\\n",
       "\t2 & 67 & 1 & 4 & 160 & 286 & 0 & 2 & 108 & 1 & 1.5 & 2 & 3 & 3 & 2\\\\\n",
       "\t3 & 67 & 1 & 4 & 120 & 229 & 0 & 2 & 129 & 1 & 2.6 & 2 & 2 & 7 & 1\\\\\n",
       "\t4 & 37 & 1 & 3 & 130 & 250 & 0 & 0 & 187 & 0 & 3.5 & 3 & 0 & 3 & 0\\\\\n",
       "\t5 & 41 & 0 & 2 & 130 & 204 & 0 & 2 & 172 & 0 & 1.4 & 1 & 0 & 3 & 0\\\\\n",
       "\t6 & 56 & 1 & 2 & 120 & 236 & 0 & 0 & 178 & 0 & 0.8 & 1 & 0 & 3 & 0\\\\\n",
       "\\end{tabular}\n"
      ],
      "text/markdown": [
       "\n",
       "A data.frame: 6 × 14\n",
       "\n",
       "| <!--/--> | age &lt;dbl&gt; | sex &lt;dbl&gt; | cp &lt;dbl&gt; | trestbps &lt;dbl&gt; | chol &lt;dbl&gt; | fbs &lt;dbl&gt; | restecg &lt;dbl&gt; | thalach &lt;dbl&gt; | exang &lt;dbl&gt; | oldpeak &lt;dbl&gt; | slope &lt;dbl&gt; | ca &lt;dbl&gt; | thal &lt;dbl&gt; | num &lt;dbl&gt; |\n",
       "|---|---|---|---|---|---|---|---|---|---|---|---|---|---|---|\n",
       "| 1 | 63 | 1 | 1 | 145 | 233 | 1 | 2 | 150 | 0 | 2.3 | 3 | 0 | 6 | 0 |\n",
       "| 2 | 67 | 1 | 4 | 160 | 286 | 0 | 2 | 108 | 1 | 1.5 | 2 | 3 | 3 | 2 |\n",
       "| 3 | 67 | 1 | 4 | 120 | 229 | 0 | 2 | 129 | 1 | 2.6 | 2 | 2 | 7 | 1 |\n",
       "| 4 | 37 | 1 | 3 | 130 | 250 | 0 | 0 | 187 | 0 | 3.5 | 3 | 0 | 3 | 0 |\n",
       "| 5 | 41 | 0 | 2 | 130 | 204 | 0 | 2 | 172 | 0 | 1.4 | 1 | 0 | 3 | 0 |\n",
       "| 6 | 56 | 1 | 2 | 120 | 236 | 0 | 0 | 178 | 0 | 0.8 | 1 | 0 | 3 | 0 |\n",
       "\n"
      ],
      "text/plain": [
       "  age sex cp trestbps chol fbs restecg thalach exang oldpeak slope ca thal num\n",
       "1 63  1   1  145      233  1   2       150     0     2.3     3     0  6    0  \n",
       "2 67  1   4  160      286  0   2       108     1     1.5     2     3  3    2  \n",
       "3 67  1   4  120      229  0   2       129     1     2.6     2     2  7    1  \n",
       "4 37  1   3  130      250  0   0       187     0     3.5     3     0  3    0  \n",
       "5 41  0   2  130      204  0   2       172     0     1.4     1     0  3    0  \n",
       "6 56  1   2  120      236  0   0       178     0     0.8     1     0  3    0  "
      ]
     },
     "metadata": {},
     "output_type": "display_data"
    }
   ],
   "source": [
    "#creates a data table with only the 14 attributes listed in published experiments\n",
    "heart_data_attributes <- heart_data %>%\n",
    "                        select(\"Stat 3\",\n",
    "                               \"Stat 4\",\n",
    "                               \"Stat 9\",\n",
    "                               \"Stat 10\",\n",
    "                               \"Stat 12\",\n",
    "                               \"Stat 16\",\n",
    "                               \"Stat 19\",\n",
    "                               \"Stat 32\",\n",
    "                               \"Stat 38\",\n",
    "                               \"Stat 40\",\n",
    "                               \"Stat 41\",\n",
    "                               \"Stat 44\",\n",
    "                               \"Stat 51\",\n",
    "                               diagnosis)\n",
    "\n",
    "#renames the columns\n",
    "colnames(heart_data_attributes) <- c(\"age\",\n",
    "                                     \"sex\",\n",
    "                                     \"cp\",\n",
    "                                     \"trestbps\",\n",
    "                                     \"chol\",\n",
    "                                     \"fbs\",\n",
    "                                     \"restecg\",\n",
    "                                     \"thalach\",\n",
    "                                     \"exang\",\n",
    "                                     \"oldpeak\",\n",
    "                                     \"slope\",\n",
    "                                     \"ca\",\n",
    "                                     \"thal\",\n",
    "                                     \"num\")\n",
    "\n",
    "head(heart_data_attributes)"
   ]
  },
  {
   "cell_type": "code",
   "execution_count": null,
   "metadata": {},
   "outputs": [],
   "source": [
    "options(repr.plot.width = 10, repr.plot.height = 8)\n",
    "\n",
    "age_vs_chol_plot <- ggplot(heart_data_attributes, aes(x=age, y=chol, colour = num)) +\n",
    "                    geom_point() +\n",
    "                    labs(x=\"Age\", y=\"Cholesteral\", colour = \"Diagnosis\") +\n",
    "                    theme(text = element_text(size = 18))\n",
    "age_vs_chol_plot"
   ]
  },
  {
   "cell_type": "code",
   "execution_count": 178,
   "metadata": {},
   "outputs": [
    {
     "name": "stderr",
     "output_type": "stream",
     "text": [
      "`summarise()` ungrouping output (override with `.groups` argument)\n",
      "\n"
     ]
    },
    {
     "data": {
      "text/html": [
       "<table>\n",
       "<caption>A tibble: 5 × 3</caption>\n",
       "<thead>\n",
       "\t<tr><th scope=col>diagnosis</th><th scope=col>total</th><th scope=col>percent</th></tr>\n",
       "\t<tr><th scope=col>&lt;fct&gt;</th><th scope=col>&lt;int&gt;</th><th scope=col>&lt;dbl&gt;</th></tr>\n",
       "</thead>\n",
       "<tbody>\n",
       "\t<tr><td>0</td><td>157</td><td>0.55673759</td></tr>\n",
       "\t<tr><td>1</td><td> 50</td><td>0.17730496</td></tr>\n",
       "\t<tr><td>2</td><td> 31</td><td>0.10992908</td></tr>\n",
       "\t<tr><td>3</td><td> 32</td><td>0.11347518</td></tr>\n",
       "\t<tr><td>4</td><td> 12</td><td>0.04255319</td></tr>\n",
       "</tbody>\n",
       "</table>\n"
      ],
      "text/latex": [
       "A tibble: 5 × 3\n",
       "\\begin{tabular}{lll}\n",
       " diagnosis & total & percent\\\\\n",
       " <fct> & <int> & <dbl>\\\\\n",
       "\\hline\n",
       "\t 0 & 157 & 0.55673759\\\\\n",
       "\t 1 &  50 & 0.17730496\\\\\n",
       "\t 2 &  31 & 0.10992908\\\\\n",
       "\t 3 &  32 & 0.11347518\\\\\n",
       "\t 4 &  12 & 0.04255319\\\\\n",
       "\\end{tabular}\n"
      ],
      "text/markdown": [
       "\n",
       "A tibble: 5 × 3\n",
       "\n",
       "| diagnosis &lt;fct&gt; | total &lt;int&gt; | percent &lt;dbl&gt; |\n",
       "|---|---|---|\n",
       "| 0 | 157 | 0.55673759 |\n",
       "| 1 |  50 | 0.17730496 |\n",
       "| 2 |  31 | 0.10992908 |\n",
       "| 3 |  32 | 0.11347518 |\n",
       "| 4 |  12 | 0.04255319 |\n",
       "\n"
      ],
      "text/plain": [
       "  diagnosis total percent   \n",
       "1 0         157   0.55673759\n",
       "2 1          50   0.17730496\n",
       "3 2          31   0.10992908\n",
       "4 3          32   0.11347518\n",
       "5 4          12   0.04255319"
      ]
     },
     "metadata": {},
     "output_type": "display_data"
    }
   ],
   "source": [
    "#creates a table that summarizes the diagnosis data \n",
    "heart_data_diagnosis <- heart_data %>%\n",
    "                    mutate(diagnosis = as_factor(diagnosis)) %>%\n",
    "                    group_by(diagnosis) %>%\n",
    "                    summarize(total = n()) %>%\n",
    "                    mutate(percent = total / nrow(heart_data))\n",
    "heart_data_diagnosis"
   ]
  },
  {
   "cell_type": "code",
   "execution_count": null,
   "metadata": {},
   "outputs": [],
   "source": []
  }
 ],
 "metadata": {
  "kernelspec": {
   "display_name": "R",
   "language": "R",
   "name": "ir"
  },
  "language_info": {
   "codemirror_mode": "r",
   "file_extension": ".r",
   "mimetype": "text/x-r-source",
   "name": "R",
   "pygments_lexer": "r",
   "version": "4.0.0"
  }
 },
 "nbformat": 4,
 "nbformat_minor": 4
}
