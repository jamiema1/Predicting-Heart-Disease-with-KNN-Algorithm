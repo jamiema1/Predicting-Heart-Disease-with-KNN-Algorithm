{
 "cells": [
  {
   "cell_type": "markdown",
   "metadata": {},
   "source": []
  },
  {
   "cell_type": "markdown",
   "metadata": {},
   "source": [
    " # Heart Disease Prediction Using KNN with Optimized Accuracy\n",
    " \n",
    " \n",
    " #### By Chris Jung, Jamie Ma and Amy Wu\n",
    " \n",
    " ### Background and Motivation\n",
    "- ***Heart disease*** is the leading casue of death  for men, women, and people of most racial and ethnic groups in most of countries in the world, even in the countries with developed medical technologies including Canada and US.<br>\n",
    " About 659,000 people in the United States die from heart disease each year which accounts for 1 in every 4 deaths. It costs the United States about $363 billion each year from 2016 to 2017. [Reference 1](https://www.cdc.gov/heartdisease/facts) , [Reference 2](https://www.who.int/health-topics/cardiovascular-diseases)\n",
    "- Thus, it would be beneficial both for our society and individuals if we can analyze factors cause heart disease, predict heart disease using the analysis and prevent it from happening beforehand. \n",
    "\n",
    "### Project Goal\n",
    "- For this reason, we are going to use actual medical record to make a **heart disease prediction model** using k-nearest neighbors(KNN) classification algorithm using the data.\n",
    "- Furthermore, we will **optimize the accuracy** of our model by tunning the parameters of KNN models such as predictors and the value of k. By adjustubng the number and the kinds of predictors, we will also find which factors are more useful to predict heart disease.\n",
    "\n",
    "\n",
    "### Data\n",
    "- The dataset is achieved from [UCI Machine Learning Repository](https://archive.ics.uci.edu/ml/datasets/Heart+Disease)\n",
    "- Each observation contains **a person's 14 types medical information** including the presence of heart disease (The original data contains 76 attributes, but we will use a subset of 14 of them as sugguested in the original source of data)\n",
    "- 14 Attributes of the data:\n",
    "    1. age: age of the person in years\n",
    "    2. sex: 1 = male; 0 = female\n",
    "    3. cp: chest pain type(Value 1: typical angina, Value 2: atypical angina, Value 3: non-anginal pain, Value 4: asymptomatic)\n",
    "    4. trestbps: resting blood pressure (in mm Hg on admission to the hospital)\n",
    "    5. chol: serum cholestoral in mg/dl\n",
    "    6. fbs: fasting blood sugar > 120 mg/dl (1 = true; 0 = false)\n",
    "    7. restecg: resting electrocardiographic results(Value 0: normal, Value 1: having ST-T wave abnormality, Value 2: showing probable or definite left ventricular hypertrophy by Estes' criteria)\n",
    "    8. thalach: maximum heart rate achieved in bpm(Beat Per Minute)\n",
    "    9. exang: exercise induced angina (1 = yes; 0 = no)\n",
    "    10. oldpeak: ST depression induced by exercise relative to rest\n",
    "    11. slope: the slope of the peak exercise ST segment (Value 1: upsloping, Value 2: flat, Value 3: downsloping)\n",
    "    12. ca: umber of major vessels (0-3) colored by flourosopy\n",
    "    13. thal: blood disorder called thalassemia (3 = normal; 6 = fixed defect; 7 = reversable defect)\n",
    "    14. class: presence of heart disease. integer valued from 0 (no presence) to 4\n",
    "##### >> We will predict the correct **class** of data using KNN classification model using other 13 attributes"
   ]
  },
  {
   "cell_type": "code",
   "execution_count": 1,
   "metadata": {},
   "outputs": [
    {
     "name": "stderr",
     "output_type": "stream",
     "text": [
      "── \u001b[1mAttaching packages\u001b[22m ─────────────────────────────────────── tidyverse 1.3.0 ──\n",
      "\n",
      "\u001b[32m✔\u001b[39m \u001b[34mggplot2\u001b[39m 3.3.2     \u001b[32m✔\u001b[39m \u001b[34mpurrr  \u001b[39m 0.3.4\n",
      "\u001b[32m✔\u001b[39m \u001b[34mtibble \u001b[39m 3.0.3     \u001b[32m✔\u001b[39m \u001b[34mdplyr  \u001b[39m 1.0.2\n",
      "\u001b[32m✔\u001b[39m \u001b[34mtidyr  \u001b[39m 1.1.2     \u001b[32m✔\u001b[39m \u001b[34mstringr\u001b[39m 1.4.0\n",
      "\u001b[32m✔\u001b[39m \u001b[34mreadr  \u001b[39m 1.3.1     \u001b[32m✔\u001b[39m \u001b[34mforcats\u001b[39m 0.5.0\n",
      "\n",
      "Warning message:\n",
      "“package ‘ggplot2’ was built under R version 4.0.1”\n",
      "Warning message:\n",
      "“package ‘tibble’ was built under R version 4.0.2”\n",
      "Warning message:\n",
      "“package ‘tidyr’ was built under R version 4.0.2”\n",
      "Warning message:\n",
      "“package ‘dplyr’ was built under R version 4.0.2”\n",
      "── \u001b[1mConflicts\u001b[22m ────────────────────────────────────────── tidyverse_conflicts() ──\n",
      "\u001b[31m✖\u001b[39m \u001b[34mdplyr\u001b[39m::\u001b[32mfilter()\u001b[39m masks \u001b[34mstats\u001b[39m::filter()\n",
      "\u001b[31m✖\u001b[39m \u001b[34mdplyr\u001b[39m::\u001b[32mlag()\u001b[39m    masks \u001b[34mstats\u001b[39m::lag()\n",
      "\n",
      "Warning message:\n",
      "“package ‘tidymodels’ was built under R version 4.0.2”\n",
      "── \u001b[1mAttaching packages\u001b[22m ────────────────────────────────────── tidymodels 0.1.1 ──\n",
      "\n",
      "\u001b[32m✔\u001b[39m \u001b[34mbroom    \u001b[39m 0.7.0      \u001b[32m✔\u001b[39m \u001b[34mrecipes  \u001b[39m 0.1.13\n",
      "\u001b[32m✔\u001b[39m \u001b[34mdials    \u001b[39m 0.0.9      \u001b[32m✔\u001b[39m \u001b[34mrsample  \u001b[39m 0.0.7 \n",
      "\u001b[32m✔\u001b[39m \u001b[34minfer    \u001b[39m 0.5.4      \u001b[32m✔\u001b[39m \u001b[34mtune     \u001b[39m 0.1.1 \n",
      "\u001b[32m✔\u001b[39m \u001b[34mmodeldata\u001b[39m 0.0.2      \u001b[32m✔\u001b[39m \u001b[34mworkflows\u001b[39m 0.2.0 \n",
      "\u001b[32m✔\u001b[39m \u001b[34mparsnip  \u001b[39m 0.1.3      \u001b[32m✔\u001b[39m \u001b[34myardstick\u001b[39m 0.0.7 \n",
      "\n",
      "Warning message:\n",
      "“package ‘broom’ was built under R version 4.0.2”\n",
      "Warning message:\n",
      "“package ‘dials’ was built under R version 4.0.2”\n",
      "Warning message:\n",
      "“package ‘infer’ was built under R version 4.0.3”\n",
      "Warning message:\n",
      "“package ‘modeldata’ was built under R version 4.0.1”\n",
      "Warning message:\n",
      "“package ‘parsnip’ was built under R version 4.0.2”\n",
      "Warning message:\n",
      "“package ‘recipes’ was built under R version 4.0.1”\n",
      "Warning message:\n",
      "“package ‘tune’ was built under R version 4.0.2”\n",
      "Warning message:\n",
      "“package ‘workflows’ was built under R version 4.0.2”\n",
      "Warning message:\n",
      "“package ‘yardstick’ was built under R version 4.0.2”\n",
      "── \u001b[1mConflicts\u001b[22m ───────────────────────────────────────── tidymodels_conflicts() ──\n",
      "\u001b[31m✖\u001b[39m \u001b[34mscales\u001b[39m::\u001b[32mdiscard()\u001b[39m masks \u001b[34mpurrr\u001b[39m::discard()\n",
      "\u001b[31m✖\u001b[39m \u001b[34mdplyr\u001b[39m::\u001b[32mfilter()\u001b[39m   masks \u001b[34mstats\u001b[39m::filter()\n",
      "\u001b[31m✖\u001b[39m \u001b[34mrecipes\u001b[39m::\u001b[32mfixed()\u001b[39m  masks \u001b[34mstringr\u001b[39m::fixed()\n",
      "\u001b[31m✖\u001b[39m \u001b[34mdplyr\u001b[39m::\u001b[32mlag()\u001b[39m      masks \u001b[34mstats\u001b[39m::lag()\n",
      "\u001b[31m✖\u001b[39m \u001b[34myardstick\u001b[39m::\u001b[32mspec()\u001b[39m masks \u001b[34mreadr\u001b[39m::spec()\n",
      "\u001b[31m✖\u001b[39m \u001b[34mrecipes\u001b[39m::\u001b[32mstep()\u001b[39m   masks \u001b[34mstats\u001b[39m::step()\n",
      "\n"
     ]
    }
   ],
   "source": [
    "#loads the libraries\n",
    "library(tidyverse)\n",
    "library(repr)\n",
    "library(tidymodels)"
   ]
  },
  {
   "cell_type": "code",
   "execution_count": 2,
   "metadata": {},
   "outputs": [
    {
     "name": "stderr",
     "output_type": "stream",
     "text": [
      "Warning message:\n",
      "“1102 parsing failures.\n",
      "row col  expected    actual                                                                                     file\n",
      "  1  -- 8 columns 7 columns 'https://archive.ics.uci.edu/ml/machine-learning-databases/heart-disease/cleveland.data'\n",
      " 10  5  a double  name      'https://archive.ics.uci.edu/ml/machine-learning-databases/heart-disease/cleveland.data'\n",
      " 10  -- 8 columns 5 columns 'https://archive.ics.uci.edu/ml/machine-learning-databases/heart-disease/cleveland.data'\n",
      " 11  -- 8 columns 7 columns 'https://archive.ics.uci.edu/ml/machine-learning-databases/heart-disease/cleveland.data'\n",
      " 20  5  a double  name      'https://archive.ics.uci.edu/ml/machine-learning-databases/heart-disease/cleveland.data'\n",
      "... ... ......... ......... ........................................................................................\n",
      "See problems(...) for more details.\n",
      "”\n"
     ]
    },
    {
     "data": {
      "text/html": [
       "<table>\n",
       "<caption>A tibble: 6 × 9</caption>\n",
       "<thead>\n",
       "\t<tr><th scope=col>1</th><th scope=col>2</th><th scope=col>3</th><th scope=col>4</th><th scope=col>5</th><th scope=col>6</th><th scope=col>7</th><th scope=col>8</th><th scope=col>index</th></tr>\n",
       "\t<tr><th scope=col>&lt;dbl&gt;</th><th scope=col>&lt;dbl&gt;</th><th scope=col>&lt;dbl&gt;</th><th scope=col>&lt;dbl&gt;</th><th scope=col>&lt;dbl&gt;</th><th scope=col>&lt;dbl&gt;</th><th scope=col>&lt;dbl&gt;</th><th scope=col>&lt;dbl&gt;</th><th scope=col>&lt;dbl&gt;</th></tr>\n",
       "</thead>\n",
       "<tbody>\n",
       "\t<tr><td>  1.0</td><td> 0</td><td> 63</td><td>  1</td><td> -9</td><td>-9.0</td><td>-9</td><td>NA</td><td>1</td></tr>\n",
       "\t<tr><td> -9.0</td><td> 1</td><td>145</td><td>  1</td><td>233</td><td>-9.0</td><td>50</td><td>20</td><td>2</td></tr>\n",
       "\t<tr><td>  1.0</td><td>-9</td><td>  1</td><td>  2</td><td>  2</td><td> 3.0</td><td>81</td><td> 0</td><td>3</td></tr>\n",
       "\t<tr><td>  0.0</td><td> 0</td><td>  0</td><td>  0</td><td>  1</td><td>10.5</td><td> 6</td><td>13</td><td>4</td></tr>\n",
       "\t<tr><td>150.0</td><td>60</td><td>190</td><td> 90</td><td>145</td><td>85.0</td><td> 0</td><td> 0</td><td>5</td></tr>\n",
       "\t<tr><td>  2.3</td><td> 3</td><td> -9</td><td>172</td><td>  0</td><td>-9.0</td><td>-9</td><td>-9</td><td>6</td></tr>\n",
       "</tbody>\n",
       "</table>\n"
      ],
      "text/latex": [
       "A tibble: 6 × 9\n",
       "\\begin{tabular}{lllllllll}\n",
       " 1 & 2 & 3 & 4 & 5 & 6 & 7 & 8 & index\\\\\n",
       " <dbl> & <dbl> & <dbl> & <dbl> & <dbl> & <dbl> & <dbl> & <dbl> & <dbl>\\\\\n",
       "\\hline\n",
       "\t   1.0 &  0 &  63 &   1 &  -9 & -9.0 & -9 & NA & 1\\\\\n",
       "\t  -9.0 &  1 & 145 &   1 & 233 & -9.0 & 50 & 20 & 2\\\\\n",
       "\t   1.0 & -9 &   1 &   2 &   2 &  3.0 & 81 &  0 & 3\\\\\n",
       "\t   0.0 &  0 &   0 &   0 &   1 & 10.5 &  6 & 13 & 4\\\\\n",
       "\t 150.0 & 60 & 190 &  90 & 145 & 85.0 &  0 &  0 & 5\\\\\n",
       "\t   2.3 &  3 &  -9 & 172 &   0 & -9.0 & -9 & -9 & 6\\\\\n",
       "\\end{tabular}\n"
      ],
      "text/markdown": [
       "\n",
       "A tibble: 6 × 9\n",
       "\n",
       "| 1 &lt;dbl&gt; | 2 &lt;dbl&gt; | 3 &lt;dbl&gt; | 4 &lt;dbl&gt; | 5 &lt;dbl&gt; | 6 &lt;dbl&gt; | 7 &lt;dbl&gt; | 8 &lt;dbl&gt; | index &lt;dbl&gt; |\n",
       "|---|---|---|---|---|---|---|---|---|\n",
       "|   1.0 |  0 |  63 |   1 |  -9 | -9.0 | -9 | NA | 1 |\n",
       "|  -9.0 |  1 | 145 |   1 | 233 | -9.0 | 50 | 20 | 2 |\n",
       "|   1.0 | -9 |   1 |   2 |   2 |  3.0 | 81 |  0 | 3 |\n",
       "|   0.0 |  0 |   0 |   0 |   1 | 10.5 |  6 | 13 | 4 |\n",
       "| 150.0 | 60 | 190 |  90 | 145 | 85.0 |  0 |  0 | 5 |\n",
       "|   2.3 |  3 |  -9 | 172 |   0 | -9.0 | -9 | -9 | 6 |\n",
       "\n"
      ],
      "text/plain": [
       "  1     2  3   4   5   6    7  8  index\n",
       "1   1.0  0  63   1  -9 -9.0 -9 NA 1    \n",
       "2  -9.0  1 145   1 233 -9.0 50 20 2    \n",
       "3   1.0 -9   1   2   2  3.0 81  0 3    \n",
       "4   0.0  0   0   0   1 10.5  6 13 4    \n",
       "5 150.0 60 190  90 145 85.0  0  0 5    \n",
       "6   2.3  3  -9 172   0 -9.0 -9 -9 6    "
      ]
     },
     "metadata": {},
     "output_type": "display_data"
    }
   ],
   "source": [
    "#sets the seed\n",
    "set.seed(1)\n",
    "\n",
    "#reads in the data table\n",
    "original_data <- read_delim(\"https://archive.ics.uci.edu/ml/machine-learning-databases/heart-disease/cleveland.data\",\n",
    "                col_names = paste(1:8),\n",
    "                col_type = c(\"5\" = \"d\"),\n",
    "                delim = \" \")\n",
    "\n",
    "#adding an index column to the data frame for future reference\n",
    "data <- original_data %>%\n",
    "        mutate(index = as.numeric(rownames(original_data))) %>%\n",
    "        filter(index <= 2820) #excluding data after the 2820th row, as the data is unusable because there is too much missing data\n",
    "head(data)"
   ]
  },
  {
   "cell_type": "code",
   "execution_count": 3,
   "metadata": {},
   "outputs": [
    {
     "name": "stderr",
     "output_type": "stream",
     "text": [
      "Warning message in merge.data.frame(., section_4, by = \"index\"):\n",
      "“column names ‘1.x’, ‘2.x’, ‘3.x’, ‘4.x’, ‘5.x’, ‘6.x’, ‘7.x’, ‘1.y’, ‘2.y’, ‘3.y’, ‘4.y’, ‘5.y’, ‘6.y’, ‘7.y’ are duplicated in the result”\n",
      "Warning message in merge.data.frame(., section_5, by = \"index\"):\n",
      "“column names ‘1.x’, ‘2.x’, ‘3.x’, ‘4.x’, ‘5.x’, ‘6.x’, ‘7.x’, ‘1.y’, ‘2.y’, ‘3.y’, ‘4.y’, ‘5.y’, ‘6.y’, ‘7.y’, ‘8.x’, ‘8.y’ are duplicated in the result”\n",
      "Warning message in merge.data.frame(., section_6, by = \"index\"):\n",
      "“column names ‘1.x’, ‘2.x’, ‘3.x’, ‘4.x’, ‘5.x’, ‘6.x’, ‘7.x’, ‘1.y’, ‘2.y’, ‘3.y’, ‘4.y’, ‘5.y’, ‘6.y’, ‘7.y’, ‘8.x’, ‘1.x’, ‘2.x’, ‘3.x’, ‘4.x’, ‘5.x’, ‘6.x’, ‘7.x’, ‘8.y’, ‘1.y’, ‘2.y’, ‘3.y’, ‘4.y’, ‘5.y’, ‘6.y’, ‘7.y’ are duplicated in the result”\n",
      "Warning message in merge.data.frame(., section_7, by = \"index\"):\n",
      "“column names ‘1.x’, ‘2.x’, ‘3.x’, ‘4.x’, ‘5.x’, ‘6.x’, ‘7.x’, ‘1.y’, ‘2.y’, ‘3.y’, ‘4.y’, ‘5.y’, ‘6.y’, ‘7.y’, ‘8.x’, ‘1.x’, ‘2.x’, ‘3.x’, ‘4.x’, ‘5.x’, ‘6.x’, ‘7.x’, ‘8.y’, ‘1.y’, ‘2.y’, ‘3.y’, ‘4.y’, ‘5.y’, ‘6.y’, ‘7.y’, ‘8.x’, ‘8.y’ are duplicated in the result”\n",
      "Warning message in merge.data.frame(., section_8, by = \"index\"):\n",
      "“column names ‘1.x’, ‘2.x’, ‘3.x’, ‘4.x’, ‘5.x’, ‘6.x’, ‘7.x’, ‘1.y’, ‘2.y’, ‘3.y’, ‘4.y’, ‘5.y’, ‘6.y’, ‘7.y’, ‘8.x’, ‘1.x’, ‘2.x’, ‘3.x’, ‘4.x’, ‘5.x’, ‘6.x’, ‘7.x’, ‘8.y’, ‘1.y’, ‘2.y’, ‘3.y’, ‘4.y’, ‘5.y’, ‘6.y’, ‘7.y’, ‘8.x’, ‘1.x’, ‘2.x’, ‘3.x’, ‘4.x’, ‘5.x’, ‘6.x’, ‘7.x’, ‘8.y’, ‘1.y’, ‘2.y’, ‘3.y’, ‘4.y’, ‘5.y’, ‘6.y’, ‘7.y’ are duplicated in the result”\n",
      "Warning message in merge.data.frame(., section_9, by = \"index\"):\n",
      "“column names ‘1.x’, ‘2.x’, ‘3.x’, ‘4.x’, ‘5.x’, ‘6.x’, ‘7.x’, ‘1.y’, ‘2.y’, ‘3.y’, ‘4.y’, ‘5.y’, ‘6.y’, ‘7.y’, ‘8.x’, ‘1.x’, ‘2.x’, ‘3.x’, ‘4.x’, ‘5.x’, ‘6.x’, ‘7.x’, ‘8.y’, ‘1.y’, ‘2.y’, ‘3.y’, ‘4.y’, ‘5.y’, ‘6.y’, ‘7.y’, ‘8.x’, ‘1.x’, ‘2.x’, ‘3.x’, ‘4.x’, ‘5.x’, ‘6.x’, ‘7.x’, ‘8.y’, ‘1.y’, ‘2.y’, ‘3.y’, ‘4.y’, ‘5.y’, ‘6.y’, ‘7.y’, ‘8.x’, ‘8.y’ are duplicated in the result”\n",
      "Warning message in merge.data.frame(., section_10, by = \"index\"):\n",
      "“column names ‘1.x’, ‘2.x’, ‘3.x’, ‘4.x’, ‘5.x’, ‘6.x’, ‘7.x’, ‘1.y’, ‘2.y’, ‘3.y’, ‘4.y’, ‘5.y’, ‘6.y’, ‘7.y’, ‘8.x’, ‘1.x’, ‘2.x’, ‘3.x’, ‘4.x’, ‘5.x’, ‘6.x’, ‘7.x’, ‘8.y’, ‘1.y’, ‘2.y’, ‘3.y’, ‘4.y’, ‘5.y’, ‘6.y’, ‘7.y’, ‘8.x’, ‘1.x’, ‘2.x’, ‘3.x’, ‘4.x’, ‘5.x’, ‘6.x’, ‘7.x’, ‘8.y’, ‘1.y’, ‘2.y’, ‘3.y’, ‘4.y’, ‘5.y’, ‘6.y’, ‘7.y’, ‘8.x’, ‘1.x’, ‘2.x’, ‘3.x’, ‘4.x’, ‘8.y’, ‘1.y’, ‘2.y’, ‘3.y’, ‘4.y’ are duplicated in the result”\n"
     ]
    },
    {
     "data": {
      "text/html": [
       "<table>\n",
       "<caption>A data.frame: 6 × 76</caption>\n",
       "<thead>\n",
       "\t<tr><th></th><th scope=col>index</th><th scope=col>Stat 1</th><th scope=col>Stat 2</th><th scope=col>Stat 3</th><th scope=col>Stat 4</th><th scope=col>Stat 5</th><th scope=col>Stat 6</th><th scope=col>Stat 7</th><th scope=col>Stat 8</th><th scope=col>Stat 9</th><th scope=col>⋯</th><th scope=col>Stat 66</th><th scope=col>Stat 67</th><th scope=col>Stat 68</th><th scope=col>Stat 69</th><th scope=col>Stat 70</th><th scope=col>Stat 71</th><th scope=col>Stat 72</th><th scope=col>Stat 73</th><th scope=col>Stat 74</th><th scope=col>Stat 75</th></tr>\n",
       "\t<tr><th></th><th scope=col>&lt;dbl&gt;</th><th scope=col>&lt;dbl&gt;</th><th scope=col>&lt;dbl&gt;</th><th scope=col>&lt;dbl&gt;</th><th scope=col>&lt;dbl&gt;</th><th scope=col>&lt;dbl&gt;</th><th scope=col>&lt;dbl&gt;</th><th scope=col>&lt;dbl&gt;</th><th scope=col>&lt;dbl&gt;</th><th scope=col>&lt;dbl&gt;</th><th scope=col>⋯</th><th scope=col>&lt;dbl&gt;</th><th scope=col>&lt;dbl&gt;</th><th scope=col>&lt;dbl&gt;</th><th scope=col>&lt;dbl&gt;</th><th scope=col>&lt;dbl&gt;</th><th scope=col>&lt;dbl&gt;</th><th scope=col>&lt;dbl&gt;</th><th scope=col>&lt;dbl&gt;</th><th scope=col>&lt;dbl&gt;</th><th scope=col>&lt;dbl&gt;</th></tr>\n",
       "</thead>\n",
       "<tbody>\n",
       "\t<tr><th scope=row>1</th><td> 1</td><td>1</td><td>0</td><td>63</td><td>1</td><td>-9</td><td>-9</td><td>-9</td><td>-9</td><td>1</td><td>⋯</td><td>-9</td><td>1</td><td>1</td><td>1</td><td>1</td><td>1</td><td>1</td><td>1</td><td>-9</td><td>-9</td></tr>\n",
       "\t<tr><th scope=row>2</th><td>11</td><td>2</td><td>0</td><td>67</td><td>1</td><td>-9</td><td>-9</td><td>-9</td><td>-9</td><td>4</td><td>⋯</td><td>-9</td><td>1</td><td>1</td><td>1</td><td>1</td><td>1</td><td>1</td><td>1</td><td>-9</td><td>-9</td></tr>\n",
       "\t<tr><th scope=row>3</th><td>21</td><td>3</td><td>0</td><td>67</td><td>1</td><td>-9</td><td>-9</td><td>-9</td><td>-9</td><td>4</td><td>⋯</td><td>-9</td><td>2</td><td>2</td><td>1</td><td>1</td><td>1</td><td>7</td><td>3</td><td>-9</td><td>-9</td></tr>\n",
       "\t<tr><th scope=row>4</th><td>31</td><td>4</td><td>0</td><td>37</td><td>1</td><td>-9</td><td>-9</td><td>-9</td><td>-9</td><td>3</td><td>⋯</td><td>-9</td><td>1</td><td>1</td><td>1</td><td>1</td><td>1</td><td>1</td><td>1</td><td>-9</td><td>-9</td></tr>\n",
       "\t<tr><th scope=row>5</th><td>41</td><td>6</td><td>0</td><td>41</td><td>0</td><td>-9</td><td>-9</td><td>-9</td><td>-9</td><td>2</td><td>⋯</td><td>-9</td><td>1</td><td>1</td><td>1</td><td>1</td><td>1</td><td>1</td><td>1</td><td>-9</td><td>-9</td></tr>\n",
       "\t<tr><th scope=row>6</th><td>51</td><td>7</td><td>0</td><td>56</td><td>1</td><td>-9</td><td>-9</td><td>-9</td><td>-9</td><td>2</td><td>⋯</td><td>-9</td><td>1</td><td>1</td><td>1</td><td>1</td><td>1</td><td>1</td><td>1</td><td>-9</td><td>-9</td></tr>\n",
       "</tbody>\n",
       "</table>\n"
      ],
      "text/latex": [
       "A data.frame: 6 × 76\n",
       "\\begin{tabular}{r|lllllllllllllllllllll}\n",
       "  & index & Stat 1 & Stat 2 & Stat 3 & Stat 4 & Stat 5 & Stat 6 & Stat 7 & Stat 8 & Stat 9 & ⋯ & Stat 66 & Stat 67 & Stat 68 & Stat 69 & Stat 70 & Stat 71 & Stat 72 & Stat 73 & Stat 74 & Stat 75\\\\\n",
       "  & <dbl> & <dbl> & <dbl> & <dbl> & <dbl> & <dbl> & <dbl> & <dbl> & <dbl> & <dbl> & ⋯ & <dbl> & <dbl> & <dbl> & <dbl> & <dbl> & <dbl> & <dbl> & <dbl> & <dbl> & <dbl>\\\\\n",
       "\\hline\n",
       "\t1 &  1 & 1 & 0 & 63 & 1 & -9 & -9 & -9 & -9 & 1 & ⋯ & -9 & 1 & 1 & 1 & 1 & 1 & 1 & 1 & -9 & -9\\\\\n",
       "\t2 & 11 & 2 & 0 & 67 & 1 & -9 & -9 & -9 & -9 & 4 & ⋯ & -9 & 1 & 1 & 1 & 1 & 1 & 1 & 1 & -9 & -9\\\\\n",
       "\t3 & 21 & 3 & 0 & 67 & 1 & -9 & -9 & -9 & -9 & 4 & ⋯ & -9 & 2 & 2 & 1 & 1 & 1 & 7 & 3 & -9 & -9\\\\\n",
       "\t4 & 31 & 4 & 0 & 37 & 1 & -9 & -9 & -9 & -9 & 3 & ⋯ & -9 & 1 & 1 & 1 & 1 & 1 & 1 & 1 & -9 & -9\\\\\n",
       "\t5 & 41 & 6 & 0 & 41 & 0 & -9 & -9 & -9 & -9 & 2 & ⋯ & -9 & 1 & 1 & 1 & 1 & 1 & 1 & 1 & -9 & -9\\\\\n",
       "\t6 & 51 & 7 & 0 & 56 & 1 & -9 & -9 & -9 & -9 & 2 & ⋯ & -9 & 1 & 1 & 1 & 1 & 1 & 1 & 1 & -9 & -9\\\\\n",
       "\\end{tabular}\n"
      ],
      "text/markdown": [
       "\n",
       "A data.frame: 6 × 76\n",
       "\n",
       "| <!--/--> | index &lt;dbl&gt; | Stat 1 &lt;dbl&gt; | Stat 2 &lt;dbl&gt; | Stat 3 &lt;dbl&gt; | Stat 4 &lt;dbl&gt; | Stat 5 &lt;dbl&gt; | Stat 6 &lt;dbl&gt; | Stat 7 &lt;dbl&gt; | Stat 8 &lt;dbl&gt; | Stat 9 &lt;dbl&gt; | ⋯ ⋯ | Stat 66 &lt;dbl&gt; | Stat 67 &lt;dbl&gt; | Stat 68 &lt;dbl&gt; | Stat 69 &lt;dbl&gt; | Stat 70 &lt;dbl&gt; | Stat 71 &lt;dbl&gt; | Stat 72 &lt;dbl&gt; | Stat 73 &lt;dbl&gt; | Stat 74 &lt;dbl&gt; | Stat 75 &lt;dbl&gt; |\n",
       "|---|---|---|---|---|---|---|---|---|---|---|---|---|---|---|---|---|---|---|---|---|---|\n",
       "| 1 |  1 | 1 | 0 | 63 | 1 | -9 | -9 | -9 | -9 | 1 | ⋯ | -9 | 1 | 1 | 1 | 1 | 1 | 1 | 1 | -9 | -9 |\n",
       "| 2 | 11 | 2 | 0 | 67 | 1 | -9 | -9 | -9 | -9 | 4 | ⋯ | -9 | 1 | 1 | 1 | 1 | 1 | 1 | 1 | -9 | -9 |\n",
       "| 3 | 21 | 3 | 0 | 67 | 1 | -9 | -9 | -9 | -9 | 4 | ⋯ | -9 | 2 | 2 | 1 | 1 | 1 | 7 | 3 | -9 | -9 |\n",
       "| 4 | 31 | 4 | 0 | 37 | 1 | -9 | -9 | -9 | -9 | 3 | ⋯ | -9 | 1 | 1 | 1 | 1 | 1 | 1 | 1 | -9 | -9 |\n",
       "| 5 | 41 | 6 | 0 | 41 | 0 | -9 | -9 | -9 | -9 | 2 | ⋯ | -9 | 1 | 1 | 1 | 1 | 1 | 1 | 1 | -9 | -9 |\n",
       "| 6 | 51 | 7 | 0 | 56 | 1 | -9 | -9 | -9 | -9 | 2 | ⋯ | -9 | 1 | 1 | 1 | 1 | 1 | 1 | 1 | -9 | -9 |\n",
       "\n"
      ],
      "text/plain": [
       "  index Stat 1 Stat 2 Stat 3 Stat 4 Stat 5 Stat 6 Stat 7 Stat 8 Stat 9 ⋯\n",
       "1  1    1      0      63     1      -9     -9     -9     -9     1      ⋯\n",
       "2 11    2      0      67     1      -9     -9     -9     -9     4      ⋯\n",
       "3 21    3      0      67     1      -9     -9     -9     -9     4      ⋯\n",
       "4 31    4      0      37     1      -9     -9     -9     -9     3      ⋯\n",
       "5 41    6      0      41     0      -9     -9     -9     -9     2      ⋯\n",
       "6 51    7      0      56     1      -9     -9     -9     -9     2      ⋯\n",
       "  Stat 66 Stat 67 Stat 68 Stat 69 Stat 70 Stat 71 Stat 72 Stat 73 Stat 74\n",
       "1 -9      1       1       1       1       1       1       1       -9     \n",
       "2 -9      1       1       1       1       1       1       1       -9     \n",
       "3 -9      2       2       1       1       1       7       3       -9     \n",
       "4 -9      1       1       1       1       1       1       1       -9     \n",
       "5 -9      1       1       1       1       1       1       1       -9     \n",
       "6 -9      1       1       1       1       1       1       1       -9     \n",
       "  Stat 75\n",
       "1 -9     \n",
       "2 -9     \n",
       "3 -9     \n",
       "4 -9     \n",
       "5 -9     \n",
       "6 -9     "
      ]
     },
     "metadata": {},
     "output_type": "display_data"
    }
   ],
   "source": [
    "#creates an individual data frame for each section of data\n",
    "section_1 <- data %>%\n",
    "            filter((index - 1) %% 10 == 0) %>%\n",
    "            select(-\"8\") #removing columns that have no values\n",
    "section_2 <- data %>%\n",
    "            filter((index - 1) %% 10 == 1) %>%\n",
    "            mutate(index = index - 1)\n",
    "section_3 <- data %>%\n",
    "            filter((index - 1) %% 10 == 2) %>%\n",
    "            mutate(index = index - 2)\n",
    "section_4 <- data %>%\n",
    "            filter((index - 1) %% 10 == 3) %>%\n",
    "            mutate(index = index - 3)\n",
    "section_5 <- data %>%\n",
    "            filter((index - 1) %% 10 == 4) %>%\n",
    "            mutate(index = index - 4)\n",
    "section_6 <- data %>%\n",
    "            filter((index - 1) %% 10 == 5) %>%\n",
    "            mutate(index = index - 5)\n",
    "section_7 <- data %>%\n",
    "            filter((index - 1) %% 10 == 6) %>%\n",
    "            mutate(index = index - 6)\n",
    "section_8 <- data %>%\n",
    "            filter((index - 1) %% 10 == 7) %>%\n",
    "            mutate(index = index - 7)\n",
    "section_9 <- data %>%\n",
    "            filter((index - 1) %% 10 == 8) %>%\n",
    "            mutate(index = index - 8)\n",
    "section_10 <- data %>%\n",
    "            filter((index - 1) %% 10 == 9) %>%\n",
    "            mutate(index = index - 9) %>%\n",
    "            select(-\"5\",-\"6\",-\"7\",-\"8\") #removing columns that have no values\n",
    "\n",
    "#combines all of the individual data tables into one data table\n",
    "heart_data_merge <- merge(section_1, section_2, by=\"index\") %>%\n",
    "            merge(section_3, by = \"index\") %>%\n",
    "            merge(section_4, by = \"index\") %>%\n",
    "            merge(section_5, by = \"index\") %>%\n",
    "            merge(section_6, by = \"index\") %>%\n",
    "            merge(section_7, by = \"index\") %>%\n",
    "            merge(section_8, by = \"index\") %>%\n",
    "            merge(section_9, by = \"index\") %>%\n",
    "            merge(section_10, by = \"index\")\n",
    "\n",
    "#makes sure the list only contains the index column name\n",
    "cnames <- c(\"index\")\n",
    "#numbers the columns 1 to max\n",
    "for (i in 1:(ncol(heart_data_merge)-1)){\n",
    "    if (i == 58){\n",
    "        cnames <- c(cnames, c(\"diagnosis\"))  #renames the \n",
    "    } else {\n",
    "        cnames <- c(cnames, paste(\"Stat\", c(i)))\n",
    "    }\n",
    "}\n",
    "\n",
    "#renames the column names to the appriate ones\n",
    "colnames(heart_data_merge) <- cnames\n",
    "\n",
    "#removes the index column\n",
    "heart_data <- select(heart_data_merge, -index) %>%\n",
    "            mutate(diagnosis = as_factor(diagnosis))\n",
    "head(heart_data_merge)"
   ]
  },
  {
   "cell_type": "code",
   "execution_count": 4,
   "metadata": {},
   "outputs": [
    {
     "data": {
      "text/html": [
       "<table>\n",
       "<caption>A data.frame: 6 × 14</caption>\n",
       "<thead>\n",
       "\t<tr><th></th><th scope=col>age</th><th scope=col>sex</th><th scope=col>cp</th><th scope=col>trestbps</th><th scope=col>chol</th><th scope=col>fbs</th><th scope=col>restecg</th><th scope=col>thalach</th><th scope=col>exang</th><th scope=col>oldpeak</th><th scope=col>slope</th><th scope=col>ca</th><th scope=col>thal</th><th scope=col>Class</th></tr>\n",
       "\t<tr><th></th><th scope=col>&lt;dbl&gt;</th><th scope=col>&lt;dbl&gt;</th><th scope=col>&lt;dbl&gt;</th><th scope=col>&lt;dbl&gt;</th><th scope=col>&lt;dbl&gt;</th><th scope=col>&lt;dbl&gt;</th><th scope=col>&lt;dbl&gt;</th><th scope=col>&lt;dbl&gt;</th><th scope=col>&lt;dbl&gt;</th><th scope=col>&lt;dbl&gt;</th><th scope=col>&lt;dbl&gt;</th><th scope=col>&lt;dbl&gt;</th><th scope=col>&lt;dbl&gt;</th><th scope=col>&lt;fct&gt;</th></tr>\n",
       "</thead>\n",
       "<tbody>\n",
       "\t<tr><th scope=row>1</th><td>63</td><td>1</td><td>1</td><td>145</td><td>233</td><td>1</td><td>2</td><td>150</td><td>0</td><td>2.3</td><td>3</td><td>0</td><td>6</td><td>0</td></tr>\n",
       "\t<tr><th scope=row>2</th><td>67</td><td>1</td><td>4</td><td>160</td><td>286</td><td>0</td><td>2</td><td>108</td><td>1</td><td>1.5</td><td>2</td><td>3</td><td>3</td><td>2</td></tr>\n",
       "\t<tr><th scope=row>3</th><td>67</td><td>1</td><td>4</td><td>120</td><td>229</td><td>0</td><td>2</td><td>129</td><td>1</td><td>2.6</td><td>2</td><td>2</td><td>7</td><td>1</td></tr>\n",
       "\t<tr><th scope=row>4</th><td>37</td><td>1</td><td>3</td><td>130</td><td>250</td><td>0</td><td>0</td><td>187</td><td>0</td><td>3.5</td><td>3</td><td>0</td><td>3</td><td>0</td></tr>\n",
       "\t<tr><th scope=row>5</th><td>41</td><td>0</td><td>2</td><td>130</td><td>204</td><td>0</td><td>2</td><td>172</td><td>0</td><td>1.4</td><td>1</td><td>0</td><td>3</td><td>0</td></tr>\n",
       "\t<tr><th scope=row>6</th><td>56</td><td>1</td><td>2</td><td>120</td><td>236</td><td>0</td><td>0</td><td>178</td><td>0</td><td>0.8</td><td>1</td><td>0</td><td>3</td><td>0</td></tr>\n",
       "</tbody>\n",
       "</table>\n"
      ],
      "text/latex": [
       "A data.frame: 6 × 14\n",
       "\\begin{tabular}{r|llllllllllllll}\n",
       "  & age & sex & cp & trestbps & chol & fbs & restecg & thalach & exang & oldpeak & slope & ca & thal & Class\\\\\n",
       "  & <dbl> & <dbl> & <dbl> & <dbl> & <dbl> & <dbl> & <dbl> & <dbl> & <dbl> & <dbl> & <dbl> & <dbl> & <dbl> & <fct>\\\\\n",
       "\\hline\n",
       "\t1 & 63 & 1 & 1 & 145 & 233 & 1 & 2 & 150 & 0 & 2.3 & 3 & 0 & 6 & 0\\\\\n",
       "\t2 & 67 & 1 & 4 & 160 & 286 & 0 & 2 & 108 & 1 & 1.5 & 2 & 3 & 3 & 2\\\\\n",
       "\t3 & 67 & 1 & 4 & 120 & 229 & 0 & 2 & 129 & 1 & 2.6 & 2 & 2 & 7 & 1\\\\\n",
       "\t4 & 37 & 1 & 3 & 130 & 250 & 0 & 0 & 187 & 0 & 3.5 & 3 & 0 & 3 & 0\\\\\n",
       "\t5 & 41 & 0 & 2 & 130 & 204 & 0 & 2 & 172 & 0 & 1.4 & 1 & 0 & 3 & 0\\\\\n",
       "\t6 & 56 & 1 & 2 & 120 & 236 & 0 & 0 & 178 & 0 & 0.8 & 1 & 0 & 3 & 0\\\\\n",
       "\\end{tabular}\n"
      ],
      "text/markdown": [
       "\n",
       "A data.frame: 6 × 14\n",
       "\n",
       "| <!--/--> | age &lt;dbl&gt; | sex &lt;dbl&gt; | cp &lt;dbl&gt; | trestbps &lt;dbl&gt; | chol &lt;dbl&gt; | fbs &lt;dbl&gt; | restecg &lt;dbl&gt; | thalach &lt;dbl&gt; | exang &lt;dbl&gt; | oldpeak &lt;dbl&gt; | slope &lt;dbl&gt; | ca &lt;dbl&gt; | thal &lt;dbl&gt; | Class &lt;fct&gt; |\n",
       "|---|---|---|---|---|---|---|---|---|---|---|---|---|---|---|\n",
       "| 1 | 63 | 1 | 1 | 145 | 233 | 1 | 2 | 150 | 0 | 2.3 | 3 | 0 | 6 | 0 |\n",
       "| 2 | 67 | 1 | 4 | 160 | 286 | 0 | 2 | 108 | 1 | 1.5 | 2 | 3 | 3 | 2 |\n",
       "| 3 | 67 | 1 | 4 | 120 | 229 | 0 | 2 | 129 | 1 | 2.6 | 2 | 2 | 7 | 1 |\n",
       "| 4 | 37 | 1 | 3 | 130 | 250 | 0 | 0 | 187 | 0 | 3.5 | 3 | 0 | 3 | 0 |\n",
       "| 5 | 41 | 0 | 2 | 130 | 204 | 0 | 2 | 172 | 0 | 1.4 | 1 | 0 | 3 | 0 |\n",
       "| 6 | 56 | 1 | 2 | 120 | 236 | 0 | 0 | 178 | 0 | 0.8 | 1 | 0 | 3 | 0 |\n",
       "\n"
      ],
      "text/plain": [
       "  age sex cp trestbps chol fbs restecg thalach exang oldpeak slope ca thal\n",
       "1 63  1   1  145      233  1   2       150     0     2.3     3     0  6   \n",
       "2 67  1   4  160      286  0   2       108     1     1.5     2     3  3   \n",
       "3 67  1   4  120      229  0   2       129     1     2.6     2     2  7   \n",
       "4 37  1   3  130      250  0   0       187     0     3.5     3     0  3   \n",
       "5 41  0   2  130      204  0   2       172     0     1.4     1     0  3   \n",
       "6 56  1   2  120      236  0   0       178     0     0.8     1     0  3   \n",
       "  Class\n",
       "1 0    \n",
       "2 2    \n",
       "3 1    \n",
       "4 0    \n",
       "5 0    \n",
       "6 0    "
      ]
     },
     "metadata": {},
     "output_type": "display_data"
    }
   ],
   "source": [
    "#creates a data table with only the 14 attributes listed in published experiments\n",
    "heart_data_attributes <- heart_data %>%\n",
    "                        select(\"Stat 3\",\n",
    "                               \"Stat 4\",\n",
    "                               \"Stat 9\",\n",
    "                               \"Stat 10\",\n",
    "                               \"Stat 12\",\n",
    "                               \"Stat 16\",\n",
    "                               \"Stat 19\",\n",
    "                               \"Stat 32\",\n",
    "                               \"Stat 38\",\n",
    "                               \"Stat 40\",\n",
    "                               \"Stat 41\",\n",
    "                               \"Stat 44\",\n",
    "                               \"Stat 51\",\n",
    "                               diagnosis)\n",
    "\n",
    "#renames the columns\n",
    "colnames(heart_data_attributes) <- c(\"age\",\n",
    "                                     \"sex\",\n",
    "                                     \"cp\",\n",
    "                                     \"trestbps\",\n",
    "                                     \"chol\",\n",
    "                                     \"fbs\",\n",
    "                                     \"restecg\",\n",
    "                                     \"thalach\",\n",
    "                                     \"exang\",\n",
    "                                     \"oldpeak\",\n",
    "                                     \"slope\",\n",
    "                                     \"ca\",\n",
    "                                     \"thal\",\n",
    "                                     \"Class\")\n",
    "\n",
    "head(heart_data_attributes)"
   ]
  },
  {
   "cell_type": "code",
   "execution_count": 5,
   "metadata": {},
   "outputs": [],
   "source": [
    "#splits the data into training and test data\n",
    "heart_split <- initial_split(heart_data_attributes, prop = 0.75, strata = Class)\n",
    "heart_train <- training(heart_split)\n",
    "heart_test <- testing(heart_split) "
   ]
  },
  {
   "cell_type": "code",
   "execution_count": 6,
   "metadata": {},
   "outputs": [
    {
     "name": "stderr",
     "output_type": "stream",
     "text": [
      "`summarise()` ungrouping output (override with `.groups` argument)\n",
      "\n"
     ]
    },
    {
     "data": {
      "text/html": [
       "<table>\n",
       "<caption>A tibble: 5 × 3</caption>\n",
       "<thead>\n",
       "\t<tr><th scope=col>Class</th><th scope=col>count</th><th scope=col>percent</th></tr>\n",
       "\t<tr><th scope=col>&lt;fct&gt;</th><th scope=col>&lt;int&gt;</th><th scope=col>&lt;dbl&gt;</th></tr>\n",
       "</thead>\n",
       "<tbody>\n",
       "\t<tr><td>0</td><td>118</td><td>55.660377</td></tr>\n",
       "\t<tr><td>1</td><td> 38</td><td>17.924528</td></tr>\n",
       "\t<tr><td>2</td><td> 22</td><td>10.377358</td></tr>\n",
       "\t<tr><td>3</td><td> 24</td><td>11.320755</td></tr>\n",
       "\t<tr><td>4</td><td> 10</td><td> 4.716981</td></tr>\n",
       "</tbody>\n",
       "</table>\n"
      ],
      "text/latex": [
       "A tibble: 5 × 3\n",
       "\\begin{tabular}{lll}\n",
       " Class & count & percent\\\\\n",
       " <fct> & <int> & <dbl>\\\\\n",
       "\\hline\n",
       "\t 0 & 118 & 55.660377\\\\\n",
       "\t 1 &  38 & 17.924528\\\\\n",
       "\t 2 &  22 & 10.377358\\\\\n",
       "\t 3 &  24 & 11.320755\\\\\n",
       "\t 4 &  10 &  4.716981\\\\\n",
       "\\end{tabular}\n"
      ],
      "text/markdown": [
       "\n",
       "A tibble: 5 × 3\n",
       "\n",
       "| Class &lt;fct&gt; | count &lt;int&gt; | percent &lt;dbl&gt; |\n",
       "|---|---|---|\n",
       "| 0 | 118 | 55.660377 |\n",
       "| 1 |  38 | 17.924528 |\n",
       "| 2 |  22 | 10.377358 |\n",
       "| 3 |  24 | 11.320755 |\n",
       "| 4 |  10 |  4.716981 |\n",
       "\n"
      ],
      "text/plain": [
       "  Class count percent  \n",
       "1 0     118   55.660377\n",
       "2 1      38   17.924528\n",
       "3 2      22   10.377358\n",
       "4 3      24   11.320755\n",
       "5 4      10    4.716981"
      ]
     },
     "metadata": {},
     "output_type": "display_data"
    }
   ],
   "source": [
    "#creates a table that displays the count and percentage of each class in the training data\n",
    "heart_proportions <- heart_train %>%\n",
    "                      group_by(Class) %>%\n",
    "                      summarize(\"count\" = n()) %>%\n",
    "                      mutate(percent = 100*count/nrow(heart_train))\n",
    "heart_proportions"
   ]
  },
  {
   "cell_type": "code",
   "execution_count": 7,
   "metadata": {},
   "outputs": [
    {
     "ename": "ERROR",
     "evalue": "Error in parse(text = x, srcfile = src): <text>:11:1: unexpected symbol\n10:                     mutate(Stat = \"mean\")\n11: heart_averages_3\n    ^\n",
     "output_type": "error",
     "traceback": [
      "Error in parse(text = x, srcfile = src): <text>:11:1: unexpected symbol\n10:                     mutate(Stat = \"mean\")\n11: heart_averages_3\n    ^\nTraceback:\n"
     ]
    }
   ],
   "source": [
    "#creates a data table with the mean, median, min, and max values of each of the variables\n",
    "heart_averages_1 <- heart_train %>%\n",
    "                    select(-Class) %>%\n",
    "                    map_df(median) %>% \n",
    "                    mutate(Stat = \"median\")\n",
    "heart_averages_2 <- roun(heart_train %>%\n",
    "                    select(-Class) %>%\n",
    "                    map_df(mean) %>% \n",
    "                    map_df() %>%\n",
    "                    mutate(Stat = \"mean\")\n",
    "heart_averages_3 <- heart_train %>%\n",
    "                    select(-Class) %>%\n",
    "                    map_df(min) %>% \n",
    "                    mutate(Stat = \"min\")\n",
    "heart_averages_4 <- heart_train %>%\n",
    "                    select(-Class) %>%\n",
    "                    map_df(max) %>% \n",
    "                    mutate(Stat = \"max\")\n",
    "\n",
    "#combines all of the statistical measurements into one table\n",
    "heart_averages <- rbind(heart_averages_1, heart_averages_2, heart_averages_3, heart_averages_4)\n",
    "heart_averages\n",
    "?round"
   ]
  },
  {
   "cell_type": "code",
   "execution_count": 8,
   "metadata": {},
   "outputs": [
    {
     "data": {
      "image/png": "[encoded data removed]",
      "text/plain": [
       "plot without title"
      ]
     },
     "metadata": {
      "image/png": {
       "height": 480,
       "width": 300
      }
     },
     "output_type": "display_data"
    }
   ],
   "source": [
    "options(repr.plot.width = 5, repr.plot.height = 8)\n",
    "\n",
    "\n",
    "age_plot <- ggplot(heart_train, aes(x=age, fill = Class)) +\n",
    "            geom_histogram(binwidth = 2) +\n",
    "            theme(text = element_text(size = 18)) + \n",
    "            facet_grid(rows = vars(Class))\n",
    "age_plot"
   ]
  },
  {
   "cell_type": "code",
   "execution_count": null,
   "metadata": {},
   "outputs": [],
   "source": []
  },
  {
   "cell_type": "code",
   "execution_count": null,
   "metadata": {},
   "outputs": [],
   "source": []
  }
 ],
 "metadata": {
  "kernelspec": {
   "display_name": "R",
   "language": "R",
   "name": "ir"
  },
  "language_info": {
   "codemirror_mode": "r",
   "file_extension": ".r",
   "mimetype": "text/x-r-source",
   "name": "R",
   "pygments_lexer": "r",
   "version": "4.0.0"
  }
 },
 "nbformat": 4,
 "nbformat_minor": 4
}
