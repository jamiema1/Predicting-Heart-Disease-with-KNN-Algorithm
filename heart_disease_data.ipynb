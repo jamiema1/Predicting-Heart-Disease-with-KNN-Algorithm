{
 "cells": [
  {
   "cell_type": "markdown",
   "metadata": {},
   "source": [
    "This file contains the heart disease data"
   ]
  },
  {
   "cell_type": "code",
   "execution_count": 1,
   "metadata": {},
   "outputs": [
    {
     "name": "stderr",
     "output_type": "stream",
     "text": [
      "── \u001b[1mAttaching packages\u001b[22m ─────────────────────────────────────── tidyverse 1.3.0 ──\n",
      "\n",
      "\u001b[32m✔\u001b[39m \u001b[34mggplot2\u001b[39m 3.3.2     \u001b[32m✔\u001b[39m \u001b[34mpurrr  \u001b[39m 0.3.4\n",
      "\u001b[32m✔\u001b[39m \u001b[34mtibble \u001b[39m 3.0.3     \u001b[32m✔\u001b[39m \u001b[34mdplyr  \u001b[39m 1.0.2\n",
      "\u001b[32m✔\u001b[39m \u001b[34mtidyr  \u001b[39m 1.1.2     \u001b[32m✔\u001b[39m \u001b[34mstringr\u001b[39m 1.4.0\n",
      "\u001b[32m✔\u001b[39m \u001b[34mreadr  \u001b[39m 1.3.1     \u001b[32m✔\u001b[39m \u001b[34mforcats\u001b[39m 0.5.0\n",
      "\n",
      "Warning message:\n",
      "“package ‘ggplot2’ was built under R version 4.0.1”\n",
      "Warning message:\n",
      "“package ‘tibble’ was built under R version 4.0.2”\n",
      "Warning message:\n",
      "“package ‘tidyr’ was built under R version 4.0.2”\n",
      "Warning message:\n",
      "“package ‘dplyr’ was built under R version 4.0.2”\n",
      "── \u001b[1mConflicts\u001b[22m ────────────────────────────────────────── tidyverse_conflicts() ──\n",
      "\u001b[31m✖\u001b[39m \u001b[34mdplyr\u001b[39m::\u001b[32mfilter()\u001b[39m masks \u001b[34mstats\u001b[39m::filter()\n",
      "\u001b[31m✖\u001b[39m \u001b[34mdplyr\u001b[39m::\u001b[32mlag()\u001b[39m    masks \u001b[34mstats\u001b[39m::lag()\n",
      "\n"
     ]
    }
   ],
   "source": [
    "library(tidyverse)\n",
    "library(repr)\n",
    "library(tidymodels)"
   ]
  },
  {
   "cell_type": "code",
   "execution_count": 52,
   "metadata": {},
   "outputs": [
    {
     "name": "stderr",
     "output_type": "stream",
     "text": [
      "Parsed with column specification:\n",
      "cols(\n",
      "  X1 = \u001b[32mcol_double()\u001b[39m,\n",
      "  X2 = \u001b[32mcol_double()\u001b[39m,\n",
      "  X3 = \u001b[32mcol_double()\u001b[39m,\n",
      "  X4 = \u001b[32mcol_double()\u001b[39m,\n",
      "  X5 = \u001b[31mcol_character()\u001b[39m,\n",
      "  X6 = \u001b[32mcol_double()\u001b[39m,\n",
      "  X7 = \u001b[32mcol_double()\u001b[39m,\n",
      "  X8 = \u001b[32mcol_double()\u001b[39m\n",
      ")\n",
      "\n",
      "Warning message:\n",
      "“766 parsing failures.\n",
      "row col  expected    actual                  file\n",
      " 10  -- 8 columns 5 columns 'data/cleveland.data'\n",
      " 11  -- 8 columns 7 columns 'data/cleveland.data'\n",
      " 20  -- 8 columns 5 columns 'data/cleveland.data'\n",
      " 21  -- 8 columns 7 columns 'data/cleveland.data'\n",
      " 30  -- 8 columns 5 columns 'data/cleveland.data'\n",
      "... ... ......... ......... .....................\n",
      "See problems(...) for more details.\n",
      "”\n",
      "Warning message in merge.data.frame(., section_5, by = \"index\"):\n",
      "“column names ‘X1.x’, ‘X2.x’, ‘X3.x’, ‘X4.x’, ‘X5.x’, ‘X6.x’, ‘X7.x’, ‘X8.x’, ‘X1.y’, ‘X2.y’, ‘X3.y’, ‘X4.y’, ‘X5.y’, ‘X6.y’, ‘X7.y’, ‘X8.y’ are duplicated in the result”\n",
      "Warning message in merge.data.frame(., section_6, by = \"index\"):\n",
      "“column names ‘X1.x’, ‘X2.x’, ‘X3.x’, ‘X4.x’, ‘X5.x’, ‘X6.x’, ‘X7.x’, ‘X8.x’, ‘X1.y’, ‘X2.y’, ‘X3.y’, ‘X4.y’, ‘X5.y’, ‘X6.y’, ‘X7.y’, ‘X8.y’ are duplicated in the result”\n",
      "Warning message in merge.data.frame(., section_7, by = \"index\"):\n",
      "“column names ‘X1.x’, ‘X2.x’, ‘X3.x’, ‘X4.x’, ‘X5.x’, ‘X6.x’, ‘X7.x’, ‘X8.x’, ‘X1.y’, ‘X2.y’, ‘X3.y’, ‘X4.y’, ‘X5.y’, ‘X6.y’, ‘X7.y’, ‘X8.y’, ‘X1.x’, ‘X2.x’, ‘X3.x’, ‘X4.x’, ‘X5.x’, ‘X6.x’, ‘X7.x’, ‘X8.x’, ‘X1.y’, ‘X2.y’, ‘X3.y’, ‘X4.y’, ‘X5.y’, ‘X6.y’, ‘X7.y’, ‘X8.y’ are duplicated in the result”\n",
      "Warning message in merge.data.frame(., section_8, by = \"index\"):\n",
      "“column names ‘X1.x’, ‘X2.x’, ‘X3.x’, ‘X4.x’, ‘X5.x’, ‘X6.x’, ‘X7.x’, ‘X8.x’, ‘X1.y’, ‘X2.y’, ‘X3.y’, ‘X4.y’, ‘X5.y’, ‘X6.y’, ‘X7.y’, ‘X8.y’, ‘X1.x’, ‘X2.x’, ‘X3.x’, ‘X4.x’, ‘X5.x’, ‘X6.x’, ‘X7.x’, ‘X8.x’, ‘X1.y’, ‘X2.y’, ‘X3.y’, ‘X4.y’, ‘X5.y’, ‘X6.y’, ‘X7.y’, ‘X8.y’ are duplicated in the result”\n",
      "Warning message in merge.data.frame(., section_9, by = \"index\"):\n",
      "“column names ‘X1.x’, ‘X2.x’, ‘X3.x’, ‘X4.x’, ‘X5.x’, ‘X6.x’, ‘X7.x’, ‘X8.x’, ‘X1.y’, ‘X2.y’, ‘X3.y’, ‘X4.y’, ‘X5.y’, ‘X6.y’, ‘X7.y’, ‘X8.y’, ‘X1.x’, ‘X2.x’, ‘X3.x’, ‘X4.x’, ‘X5.x’, ‘X6.x’, ‘X7.x’, ‘X8.x’, ‘X1.y’, ‘X2.y’, ‘X3.y’, ‘X4.y’, ‘X5.y’, ‘X6.y’, ‘X7.y’, ‘X8.y’, ‘X1.x’, ‘X2.x’, ‘X3.x’, ‘X4.x’, ‘X5.x’, ‘X6.x’, ‘X7.x’, ‘X8.x’, ‘X1.y’, ‘X2.y’, ‘X3.y’, ‘X4.y’, ‘X5.y’, ‘X6.y’, ‘X7.y’, ‘X8.y’ are duplicated in the result”\n",
      "Warning message in merge.data.frame(., section_10, by = \"index\"):\n",
      "“column names ‘X1.x’, ‘X2.x’, ‘X3.x’, ‘X4.x’, ‘X5.x’, ‘X6.x’, ‘X7.x’, ‘X8.x’, ‘X1.y’, ‘X2.y’, ‘X3.y’, ‘X4.y’, ‘X5.y’, ‘X6.y’, ‘X7.y’, ‘X8.y’, ‘X1.x’, ‘X2.x’, ‘X3.x’, ‘X4.x’, ‘X5.x’, ‘X6.x’, ‘X7.x’, ‘X8.x’, ‘X1.y’, ‘X2.y’, ‘X3.y’, ‘X4.y’, ‘X5.y’, ‘X6.y’, ‘X7.y’, ‘X8.y’, ‘X1.x’, ‘X2.x’, ‘X3.x’, ‘X4.x’, ‘X5.x’, ‘X6.x’, ‘X7.x’, ‘X8.x’, ‘X1.y’, ‘X2.y’, ‘X3.y’, ‘X4.y’, ‘X5.y’, ‘X6.y’, ‘X7.y’, ‘X8.y’ are duplicated in the result”\n"
     ]
    },
    {
     "ename": "ERROR",
     "evalue": "Error in heart_data(.): could not find function \"heart_data\"\n",
     "output_type": "error",
     "traceback": [
      "Error in heart_data(.): could not find function \"heart_data\"\nTraceback:\n",
      "1. merge(section_1, section_2, by = \"index\") %>% merge(section_3, \n .     by = \"index\") %>% merge(section_4, by = \"index\") %>% merge(section_5, \n .     by = \"index\") %>% merge(section_6, by = \"index\") %>% merge(section_7, \n .     by = \"index\") %>% merge(section_8, by = \"index\") %>% merge(section_9, \n .     by = \"index\") %>% merge(section_10, by = \"index\") %>% heart_data",
      "2. withVisible(eval(quote(`_fseq`(`_lhs`)), env, env))",
      "3. eval(quote(`_fseq`(`_lhs`)), env, env)",
      "4. eval(quote(`_fseq`(`_lhs`)), env, env)",
      "5. `_fseq`(`_lhs`)",
      "6. freduce(value, `_function_list`)",
      "7. withVisible(function_list[[k]](value))",
      "8. function_list[[k]](value)"
     ]
    }
   ],
   "source": [
    "original_data <- read_table2(\"data/cleveland.data\",\n",
    "                col_names = F)\n",
    "\n",
    "#adding an index column to the data frame for future reference\n",
    "data <- original_data %>%\n",
    "        mutate(index = as.numeric(rownames(original_data))) %>%\n",
    "        filter(index <= 2820) #excluding data after the 2820th row, as the data is unusable because there is too much missing data\n",
    "\n",
    "# creates an individual data frame for each section of data\n",
    "section_1 <- data %>%\n",
    "            filter((index - 1) %% 10 == 0) %>%\n",
    "            select(-X8)\n",
    "colnames(section_1) <- c(\"a\",\"b\",\"c\",\"d\",\"e\",\"f\",\"g\",\"index\") #testing how to change names\n",
    "section_2 <- data %>%\n",
    "            filter((index - 1) %% 10 == 1) %>%\n",
    "            mutate(index = index - 1)\n",
    "section_3 <- data %>%\n",
    "            filter((index - 1) %% 10 == 2) %>%\n",
    "            mutate(index = index - 2)\n",
    "section_4 <- data %>%\n",
    "            filter((index - 1) %% 10 == 3) %>%\n",
    "            mutate(index = index - 3)\n",
    "section_5 <- data %>%\n",
    "            filter((index - 1) %% 10 == 4) %>%\n",
    "            mutate(index = index - 4)\n",
    "section_6 <- data %>%\n",
    "            filter((index - 1) %% 10 == 5) %>%\n",
    "            mutate(index = index - 5)\n",
    "section_7 <- data %>%\n",
    "            filter((index - 1) %% 10 == 6) %>%\n",
    "            mutate(index = index - 6)\n",
    "section_8 <- data %>%\n",
    "            filter((index - 1) %% 10 == 7) %>%\n",
    "            mutate(index = index - 7)\n",
    "section_9 <- data %>%\n",
    "            filter((index - 1) %% 10 == 8) %>%\n",
    "            mutate(index = index - 8)\n",
    "section_10 <- data %>%\n",
    "            filter((index - 1) %% 10 == 9) %>%\n",
    "            mutate(index = index - 9) %>%\n",
    "            select(-X6,-X7,-X8)\n",
    "\n",
    "#combines all of the individual data tables into one data table\n",
    "heart_data <- merge(section_1, section_2, by=\"index\") %>%\n",
    "            merge(section_3, by = \"index\") %>%\n",
    "            merge(section_4, by = \"index\") %>%\n",
    "            merge(section_5, by = \"index\") %>%\n",
    "            merge(section_6, by = \"index\") %>%\n",
    "            merge(section_7, by = \"index\") %>%\n",
    "            merge(section_8, by = \"index\") %>%\n",
    "            merge(section_9, by = \"index\") %>%\n",
    "            merge(section_10, by = \"index\") %>%\n",
    "heart_data"
   ]
  },
  {
   "cell_type": "code",
   "execution_count": null,
   "metadata": {},
   "outputs": [],
   "source": []
  },
  {
   "cell_type": "code",
   "execution_count": null,
   "metadata": {},
   "outputs": [],
   "source": []
  }
 ],
 "metadata": {
  "kernelspec": {
   "display_name": "R",
   "language": "R",
   "name": "ir"
  },
  "language_info": {
   "codemirror_mode": "r",
   "file_extension": ".r",
   "mimetype": "text/x-r-source",
   "name": "R",
   "pygments_lexer": "r",
   "version": "4.0.0"
  }
 },
 "nbformat": 4,
 "nbformat_minor": 4
}
